{
  "cells": [
    {
      "cell_type": "code",
      "execution_count": null,
      "metadata": {
        "id": "vt_vxMZUj8_o"
      },
      "outputs": [],
      "source": [
        "import pandas as pd\n",
        "import pandas as pd\n",
        "import numpy as np\n",
        "import matplotlib.pyplot as plt\n",
        "import seaborn as sns\n",
        "from sklearn.model_selection import KFold, train_test_split\n",
        "from sklearn.metrics import mean_squared_error\n",
        "import warnings\n",
        "warnings.filterwarnings('ignore')\n",
        "import datetime\n",
        "from sklearn.preprocessing import LabelEncoder\n",
        "import xgboost as xgb\n",
        "#from catboost import CatBoostRegressor\n",
        "import lightgbm as lgb\n",
        "from sklearn.ensemble import StackingRegressor\n",
        "from sklearn.linear_model import RidgeCV\n",
        "\n"
      ]
    },
    {
      "cell_type": "code",
      "execution_count": null,
      "metadata": {
        "id": "NnC1Waq0j8_r",
        "outputId": "bb502390-e2c0-4092-e156-04b7c9185a52"
      },
      "outputs": [
        {
          "data": {
            "text/html": [
              "<div>\n",
              "<style scoped>\n",
              "    .dataframe tbody tr th:only-of-type {\n",
              "        vertical-align: middle;\n",
              "    }\n",
              "\n",
              "    .dataframe tbody tr th {\n",
              "        vertical-align: top;\n",
              "    }\n",
              "\n",
              "    .dataframe thead th {\n",
              "        text-align: right;\n",
              "    }\n",
              "</style>\n",
              "<table border=\"1\" class=\"dataframe\">\n",
              "  <thead>\n",
              "    <tr style=\"text-align: right;\">\n",
              "      <th></th>\n",
              "      <th>id</th>\n",
              "      <th>brand</th>\n",
              "      <th>model</th>\n",
              "      <th>model_year</th>\n",
              "      <th>milage</th>\n",
              "      <th>fuel_type</th>\n",
              "      <th>engine</th>\n",
              "      <th>transmission</th>\n",
              "      <th>ext_col</th>\n",
              "      <th>int_col</th>\n",
              "      <th>accident</th>\n",
              "      <th>clean_title</th>\n",
              "    </tr>\n",
              "  </thead>\n",
              "  <tbody>\n",
              "    <tr>\n",
              "      <th>0</th>\n",
              "      <td>188533</td>\n",
              "      <td>Land</td>\n",
              "      <td>Rover LR2 Base</td>\n",
              "      <td>2015</td>\n",
              "      <td>98000</td>\n",
              "      <td>Gasoline</td>\n",
              "      <td>240.0HP 2.0L 4 Cylinder Engine Gasoline Fuel</td>\n",
              "      <td>6-Speed A/T</td>\n",
              "      <td>White</td>\n",
              "      <td>Beige</td>\n",
              "      <td>None reported</td>\n",
              "      <td>Yes</td>\n",
              "    </tr>\n",
              "    <tr>\n",
              "      <th>1</th>\n",
              "      <td>188534</td>\n",
              "      <td>Land</td>\n",
              "      <td>Rover Defender SE</td>\n",
              "      <td>2020</td>\n",
              "      <td>9142</td>\n",
              "      <td>Hybrid</td>\n",
              "      <td>395.0HP 3.0L Straight 6 Cylinder Engine Gasoli...</td>\n",
              "      <td>8-Speed A/T</td>\n",
              "      <td>Silver</td>\n",
              "      <td>Black</td>\n",
              "      <td>None reported</td>\n",
              "      <td>Yes</td>\n",
              "    </tr>\n",
              "    <tr>\n",
              "      <th>2</th>\n",
              "      <td>188535</td>\n",
              "      <td>Ford</td>\n",
              "      <td>Expedition Limited</td>\n",
              "      <td>2022</td>\n",
              "      <td>28121</td>\n",
              "      <td>Gasoline</td>\n",
              "      <td>3.5L V6 24V PDI DOHC Twin Turbo</td>\n",
              "      <td>10-Speed Automatic</td>\n",
              "      <td>White</td>\n",
              "      <td>Ebony</td>\n",
              "      <td>None reported</td>\n",
              "      <td>NaN</td>\n",
              "    </tr>\n",
              "    <tr>\n",
              "      <th>3</th>\n",
              "      <td>188536</td>\n",
              "      <td>Audi</td>\n",
              "      <td>A6 2.0T Sport</td>\n",
              "      <td>2016</td>\n",
              "      <td>61258</td>\n",
              "      <td>Gasoline</td>\n",
              "      <td>2.0 Liter TFSI</td>\n",
              "      <td>Automatic</td>\n",
              "      <td>Silician Yellow</td>\n",
              "      <td>Black</td>\n",
              "      <td>None reported</td>\n",
              "      <td>NaN</td>\n",
              "    </tr>\n",
              "    <tr>\n",
              "      <th>4</th>\n",
              "      <td>188537</td>\n",
              "      <td>Audi</td>\n",
              "      <td>A6 2.0T Premium Plus</td>\n",
              "      <td>2018</td>\n",
              "      <td>59000</td>\n",
              "      <td>Gasoline</td>\n",
              "      <td>252.0HP 2.0L 4 Cylinder Engine Gasoline Fuel</td>\n",
              "      <td>A/T</td>\n",
              "      <td>Gray</td>\n",
              "      <td>Black</td>\n",
              "      <td>None reported</td>\n",
              "      <td>Yes</td>\n",
              "    </tr>\n",
              "    <tr>\n",
              "      <th>...</th>\n",
              "      <td>...</td>\n",
              "      <td>...</td>\n",
              "      <td>...</td>\n",
              "      <td>...</td>\n",
              "      <td>...</td>\n",
              "      <td>...</td>\n",
              "      <td>...</td>\n",
              "      <td>...</td>\n",
              "      <td>...</td>\n",
              "      <td>...</td>\n",
              "      <td>...</td>\n",
              "      <td>...</td>\n",
              "    </tr>\n",
              "    <tr>\n",
              "      <th>125685</th>\n",
              "      <td>314218</td>\n",
              "      <td>Mercedes-Benz</td>\n",
              "      <td>GL-Class GL 450 4MATIC</td>\n",
              "      <td>2014</td>\n",
              "      <td>83315</td>\n",
              "      <td>Gasoline</td>\n",
              "      <td>362.0HP 3.0L V6 Cylinder Engine Gasoline Fuel</td>\n",
              "      <td>7-Speed A/T</td>\n",
              "      <td>Black</td>\n",
              "      <td>Black</td>\n",
              "      <td>None reported</td>\n",
              "      <td>Yes</td>\n",
              "    </tr>\n",
              "    <tr>\n",
              "      <th>125686</th>\n",
              "      <td>314219</td>\n",
              "      <td>Audi</td>\n",
              "      <td>Q7 55 Prestige</td>\n",
              "      <td>2019</td>\n",
              "      <td>29336</td>\n",
              "      <td>Gasoline</td>\n",
              "      <td>3.0 Liter Turbo</td>\n",
              "      <td>Automatic</td>\n",
              "      <td>White</td>\n",
              "      <td>Black</td>\n",
              "      <td>None reported</td>\n",
              "      <td>NaN</td>\n",
              "    </tr>\n",
              "    <tr>\n",
              "      <th>125687</th>\n",
              "      <td>314220</td>\n",
              "      <td>Audi</td>\n",
              "      <td>A6 3.0T Premium Plus</td>\n",
              "      <td>2012</td>\n",
              "      <td>77634</td>\n",
              "      <td>Gasoline</td>\n",
              "      <td>333.0HP 3.0L V6 Cylinder Engine Gasoline Fuel</td>\n",
              "      <td>A/T</td>\n",
              "      <td>Black</td>\n",
              "      <td>Black</td>\n",
              "      <td>None reported</td>\n",
              "      <td>Yes</td>\n",
              "    </tr>\n",
              "    <tr>\n",
              "      <th>125688</th>\n",
              "      <td>314221</td>\n",
              "      <td>Audi</td>\n",
              "      <td>Q7 3.0T Premium</td>\n",
              "      <td>2012</td>\n",
              "      <td>112000</td>\n",
              "      <td>Gasoline</td>\n",
              "      <td>333.0HP 3.0L V6 Cylinder Engine Gasoline Fuel</td>\n",
              "      <td>A/T</td>\n",
              "      <td>Black</td>\n",
              "      <td>Black</td>\n",
              "      <td>None reported</td>\n",
              "      <td>Yes</td>\n",
              "    </tr>\n",
              "    <tr>\n",
              "      <th>125689</th>\n",
              "      <td>314222</td>\n",
              "      <td>Chevrolet</td>\n",
              "      <td>Tahoe LT</td>\n",
              "      <td>2018</td>\n",
              "      <td>66840</td>\n",
              "      <td>Gasoline</td>\n",
              "      <td>355.0HP 5.3L 8 Cylinder Engine Gasoline Fuel</td>\n",
              "      <td>A/T</td>\n",
              "      <td>Silver</td>\n",
              "      <td>Black</td>\n",
              "      <td>None reported</td>\n",
              "      <td>Yes</td>\n",
              "    </tr>\n",
              "  </tbody>\n",
              "</table>\n",
              "<p>125690 rows × 12 columns</p>\n",
              "</div>"
            ],
            "text/plain": [
              "            id          brand                   model  model_year  milage   \n",
              "0       188533           Land          Rover LR2 Base        2015   98000  \\\n",
              "1       188534           Land       Rover Defender SE        2020    9142   \n",
              "2       188535           Ford      Expedition Limited        2022   28121   \n",
              "3       188536           Audi           A6 2.0T Sport        2016   61258   \n",
              "4       188537           Audi    A6 2.0T Premium Plus        2018   59000   \n",
              "...        ...            ...                     ...         ...     ...   \n",
              "125685  314218  Mercedes-Benz  GL-Class GL 450 4MATIC        2014   83315   \n",
              "125686  314219           Audi          Q7 55 Prestige        2019   29336   \n",
              "125687  314220           Audi    A6 3.0T Premium Plus        2012   77634   \n",
              "125688  314221           Audi         Q7 3.0T Premium        2012  112000   \n",
              "125689  314222      Chevrolet                Tahoe LT        2018   66840   \n",
              "\n",
              "       fuel_type                                             engine   \n",
              "0       Gasoline       240.0HP 2.0L 4 Cylinder Engine Gasoline Fuel  \\\n",
              "1         Hybrid  395.0HP 3.0L Straight 6 Cylinder Engine Gasoli...   \n",
              "2       Gasoline                    3.5L V6 24V PDI DOHC Twin Turbo   \n",
              "3       Gasoline                                     2.0 Liter TFSI   \n",
              "4       Gasoline       252.0HP 2.0L 4 Cylinder Engine Gasoline Fuel   \n",
              "...          ...                                                ...   \n",
              "125685  Gasoline      362.0HP 3.0L V6 Cylinder Engine Gasoline Fuel   \n",
              "125686  Gasoline                                    3.0 Liter Turbo   \n",
              "125687  Gasoline      333.0HP 3.0L V6 Cylinder Engine Gasoline Fuel   \n",
              "125688  Gasoline      333.0HP 3.0L V6 Cylinder Engine Gasoline Fuel   \n",
              "125689  Gasoline       355.0HP 5.3L 8 Cylinder Engine Gasoline Fuel   \n",
              "\n",
              "              transmission          ext_col int_col       accident clean_title  \n",
              "0              6-Speed A/T            White   Beige  None reported         Yes  \n",
              "1              8-Speed A/T           Silver   Black  None reported         Yes  \n",
              "2       10-Speed Automatic            White   Ebony  None reported         NaN  \n",
              "3                Automatic  Silician Yellow   Black  None reported         NaN  \n",
              "4                      A/T             Gray   Black  None reported         Yes  \n",
              "...                    ...              ...     ...            ...         ...  \n",
              "125685         7-Speed A/T            Black   Black  None reported         Yes  \n",
              "125686           Automatic            White   Black  None reported         NaN  \n",
              "125687                 A/T            Black   Black  None reported         Yes  \n",
              "125688                 A/T            Black   Black  None reported         Yes  \n",
              "125689                 A/T           Silver   Black  None reported         Yes  \n",
              "\n",
              "[125690 rows x 12 columns]"
            ]
          },
          "execution_count": 2,
          "metadata": {},
          "output_type": "execute_result"
        }
      ],
      "source": [
        "df = pd.read_csv('train.csv')\n",
        "test = pd.read_csv('test.csv')\n",
        "test"
      ]
    },
    {
      "cell_type": "code",
      "execution_count": null,
      "metadata": {
        "id": "sT5KBMVMj8_r",
        "outputId": "d6439028-1c0c-4a6e-cc92-a22f92b2964f"
      },
      "outputs": [
        {
          "name": "stdout",
          "output_type": "stream",
          "text": [
            "<class 'pandas.core.frame.DataFrame'>\n",
            "RangeIndex: 188533 entries, 0 to 188532\n",
            "Data columns (total 13 columns):\n",
            " #   Column        Non-Null Count   Dtype \n",
            "---  ------        --------------   ----- \n",
            " 0   id            188533 non-null  int64 \n",
            " 1   brand         188533 non-null  object\n",
            " 2   model         188533 non-null  object\n",
            " 3   model_year    188533 non-null  int64 \n",
            " 4   milage        188533 non-null  int64 \n",
            " 5   fuel_type     183450 non-null  object\n",
            " 6   engine        188533 non-null  object\n",
            " 7   transmission  188533 non-null  object\n",
            " 8   ext_col       188533 non-null  object\n",
            " 9   int_col       188533 non-null  object\n",
            " 10  accident      186081 non-null  object\n",
            " 11  clean_title   167114 non-null  object\n",
            " 12  price         188533 non-null  int64 \n",
            "dtypes: int64(4), object(9)\n",
            "memory usage: 18.7+ MB\n",
            "None\n",
            "0\n",
            "<class 'pandas.core.frame.DataFrame'>\n",
            "RangeIndex: 125690 entries, 0 to 125689\n",
            "Data columns (total 12 columns):\n",
            " #   Column        Non-Null Count   Dtype \n",
            "---  ------        --------------   ----- \n",
            " 0   id            125690 non-null  int64 \n",
            " 1   brand         125690 non-null  object\n",
            " 2   model         125690 non-null  object\n",
            " 3   model_year    125690 non-null  int64 \n",
            " 4   milage        125690 non-null  int64 \n",
            " 5   fuel_type     122307 non-null  object\n",
            " 6   engine        125690 non-null  object\n",
            " 7   transmission  125690 non-null  object\n",
            " 8   ext_col       125690 non-null  object\n",
            " 9   int_col       125690 non-null  object\n",
            " 10  accident      124058 non-null  object\n",
            " 11  clean_title   111451 non-null  object\n",
            "dtypes: int64(3), object(9)\n",
            "memory usage: 11.5+ MB\n",
            "None\n"
          ]
        }
      ],
      "source": [
        "print(df.info())    #\n",
        "print(len(df[df.duplicated()]))   #no duplicates\n",
        "print(test.info())"
      ]
    },
    {
      "cell_type": "markdown",
      "metadata": {
        "id": "mJowGHF_j8_s"
      },
      "source": [
        "#missing values accident ,clean_title,fuel_type"
      ]
    },
    {
      "cell_type": "code",
      "execution_count": null,
      "metadata": {
        "id": "UAYlzuf7j8_t",
        "outputId": "d674d231-e05b-4e92-a779-64ab8397a88f"
      },
      "outputs": [
        {
          "data": {
            "text/html": [
              "<div>\n",
              "<style scoped>\n",
              "    .dataframe tbody tr th:only-of-type {\n",
              "        vertical-align: middle;\n",
              "    }\n",
              "\n",
              "    .dataframe tbody tr th {\n",
              "        vertical-align: top;\n",
              "    }\n",
              "\n",
              "    .dataframe thead th {\n",
              "        text-align: right;\n",
              "    }\n",
              "</style>\n",
              "<table border=\"1\" class=\"dataframe\">\n",
              "  <thead>\n",
              "    <tr style=\"text-align: right;\">\n",
              "      <th></th>\n",
              "      <th>id</th>\n",
              "      <th>model_year</th>\n",
              "      <th>milage</th>\n",
              "      <th>price</th>\n",
              "    </tr>\n",
              "  </thead>\n",
              "  <tbody>\n",
              "    <tr>\n",
              "      <th>count</th>\n",
              "      <td>188533.000000</td>\n",
              "      <td>188533.000000</td>\n",
              "      <td>188533.000000</td>\n",
              "      <td>1.885330e+05</td>\n",
              "    </tr>\n",
              "    <tr>\n",
              "      <th>mean</th>\n",
              "      <td>94266.000000</td>\n",
              "      <td>2015.829998</td>\n",
              "      <td>65705.295174</td>\n",
              "      <td>4.387802e+04</td>\n",
              "    </tr>\n",
              "    <tr>\n",
              "      <th>std</th>\n",
              "      <td>54424.933488</td>\n",
              "      <td>5.660967</td>\n",
              "      <td>49798.158076</td>\n",
              "      <td>7.881952e+04</td>\n",
              "    </tr>\n",
              "    <tr>\n",
              "      <th>min</th>\n",
              "      <td>0.000000</td>\n",
              "      <td>1974.000000</td>\n",
              "      <td>100.000000</td>\n",
              "      <td>2.000000e+03</td>\n",
              "    </tr>\n",
              "    <tr>\n",
              "      <th>25%</th>\n",
              "      <td>47133.000000</td>\n",
              "      <td>2013.000000</td>\n",
              "      <td>24115.000000</td>\n",
              "      <td>1.700000e+04</td>\n",
              "    </tr>\n",
              "    <tr>\n",
              "      <th>50%</th>\n",
              "      <td>94266.000000</td>\n",
              "      <td>2017.000000</td>\n",
              "      <td>57785.000000</td>\n",
              "      <td>3.082500e+04</td>\n",
              "    </tr>\n",
              "    <tr>\n",
              "      <th>75%</th>\n",
              "      <td>141399.000000</td>\n",
              "      <td>2020.000000</td>\n",
              "      <td>95400.000000</td>\n",
              "      <td>4.990000e+04</td>\n",
              "    </tr>\n",
              "    <tr>\n",
              "      <th>max</th>\n",
              "      <td>188532.000000</td>\n",
              "      <td>2024.000000</td>\n",
              "      <td>405000.000000</td>\n",
              "      <td>2.954083e+06</td>\n",
              "    </tr>\n",
              "  </tbody>\n",
              "</table>\n",
              "</div>"
            ],
            "text/plain": [
              "                  id     model_year         milage         price\n",
              "count  188533.000000  188533.000000  188533.000000  1.885330e+05\n",
              "mean    94266.000000    2015.829998   65705.295174  4.387802e+04\n",
              "std     54424.933488       5.660967   49798.158076  7.881952e+04\n",
              "min         0.000000    1974.000000     100.000000  2.000000e+03\n",
              "25%     47133.000000    2013.000000   24115.000000  1.700000e+04\n",
              "50%     94266.000000    2017.000000   57785.000000  3.082500e+04\n",
              "75%    141399.000000    2020.000000   95400.000000  4.990000e+04\n",
              "max    188532.000000    2024.000000  405000.000000  2.954083e+06"
            ]
          },
          "execution_count": 4,
          "metadata": {},
          "output_type": "execute_result"
        }
      ],
      "source": [
        "df.describe()"
      ]
    },
    {
      "cell_type": "code",
      "execution_count": null,
      "metadata": {
        "id": "Z0KV00Yzj8_t",
        "outputId": "9d3f5596-d704-4988-ebad-a9f757793f8b"
      },
      "outputs": [
        {
          "name": "stdout",
          "output_type": "stream",
          "text": [
            "engine :  1117\n",
            "int_col :  156\n",
            "ext_col :  319\n",
            "accident :  2\n",
            "transmission :  52\n",
            "fuel_type :  7\n",
            "model_year :  34\n",
            "model :  1897\n",
            "brand :  57\n",
            "milage :  6651\n",
            "clean_title :  1\n"
          ]
        }
      ],
      "source": [
        "#\n",
        "#get unique vales of each column\n",
        "print(\"engine : \" , df['engine'].nunique())  #horse power , engine_size , cylinder\n",
        "print(\"int_col : \" ,df['int_col'].nunique())\n",
        "print(\"ext_col : \" ,df['ext_col'].nunique())\n",
        "print(\"accident : \" ,df['accident'].nunique()) #done\n",
        "print(\"transmission : \" ,df['transmission'].nunique())\n",
        "print(\"fuel_type : \" ,df['fuel_type'].nunique())\n",
        "print(\"model_year : \" ,df['model_year'].nunique())  #done\n",
        "print(\"model : \" ,df['model'].nunique())\n",
        "print(\"brand : \" ,df['brand'].nunique())\n",
        "print(\"milage : \" ,df['milage'].nunique())  #done\n",
        "print(\"clean_title : \" ,df['clean_title'].nunique())  #done"
      ]
    },
    {
      "cell_type": "code",
      "execution_count": null,
      "metadata": {
        "id": "0oss3aMHj8_u"
      },
      "outputs": [],
      "source": [
        "#if all the same value then drop\n",
        "df.drop(\"clean_title\",axis= 1, inplace= True)\n",
        "test.drop(\"clean_title\",axis= 1, inplace= True)"
      ]
    },
    {
      "cell_type": "code",
      "execution_count": null,
      "metadata": {
        "id": "bytukEHDj8_u"
      },
      "outputs": [],
      "source": [
        "df.drop(\"id\",axis= 1, inplace= True)"
      ]
    },
    {
      "cell_type": "code",
      "execution_count": null,
      "metadata": {
        "id": "K3Egu0r9j8_v",
        "outputId": "e074ab32-32b9-46ab-8e67-ee03b3cf06ee"
      },
      "outputs": [
        {
          "name": "stdout",
          "output_type": "stream",
          "text": [
            "<class 'pandas.core.frame.DataFrame'>\n",
            "RangeIndex: 188533 entries, 0 to 188532\n",
            "Data columns (total 11 columns):\n",
            " #   Column        Non-Null Count   Dtype \n",
            "---  ------        --------------   ----- \n",
            " 0   brand         188533 non-null  object\n",
            " 1   model         188533 non-null  object\n",
            " 2   model_year    188533 non-null  int64 \n",
            " 3   milage        188533 non-null  int64 \n",
            " 4   fuel_type     183450 non-null  object\n",
            " 5   engine        188533 non-null  object\n",
            " 6   transmission  188533 non-null  object\n",
            " 7   ext_col       188533 non-null  object\n",
            " 8   int_col       188533 non-null  object\n",
            " 9   accident      186081 non-null  object\n",
            " 10  price         188533 non-null  int64 \n",
            "dtypes: int64(3), object(8)\n",
            "memory usage: 15.8+ MB\n"
          ]
        }
      ],
      "source": [
        "df.info()"
      ]
    },
    {
      "cell_type": "markdown",
      "metadata": {
        "id": "zXmbd4PRj8_v"
      },
      "source": [
        "DATA CLEANING"
      ]
    },
    {
      "cell_type": "code",
      "execution_count": null,
      "metadata": {
        "id": "BSIhyaHIj8_v"
      },
      "outputs": [],
      "source": [
        "df['transmission'] = df['transmission'].str.replace('–', 'unknown')\n",
        "test['transmission'] = test['transmission'].str.replace('–', 'unknown')\n"
      ]
    },
    {
      "cell_type": "code",
      "execution_count": null,
      "metadata": {
        "id": "YYSHpoyZj8_v",
        "outputId": "638f86c0-3fd6-4306-d8d1-c86aa25e253c"
      },
      "outputs": [
        {
          "data": {
            "text/plain": [
              "array(['Gasoline', 'E85 Flex Fuel', nan, 'Hybrid', 'Diesel',\n",
              "       'Plug-In Hybrid', '–', 'not supported'], dtype=object)"
            ]
          },
          "execution_count": 10,
          "metadata": {},
          "output_type": "execute_result"
        }
      ],
      "source": [
        "df['fuel_type'].unique()"
      ]
    },
    {
      "cell_type": "code",
      "execution_count": null,
      "metadata": {
        "id": "fzyx_qrSj8_w",
        "outputId": "c9e1fee9-3b11-45ee-89db-947a6c6c0566"
      },
      "outputs": [
        {
          "name": "stdout",
          "output_type": "stream",
          "text": [
            "5864\n",
            "3921\n"
          ]
        }
      ],
      "source": [
        "df['fuel_type'] = df['fuel_type'].replace('–', np.nan)\n",
        "test['fuel_type'] = test['fuel_type'].replace('–', np.nan)\n",
        "\n",
        "# Check the result\n",
        "print(df['fuel_type'].isnull().sum())  # to verify the count of NaN values\n",
        "print(test['fuel_type'].isnull().sum())"
      ]
    },
    {
      "cell_type": "code",
      "execution_count": null,
      "metadata": {
        "id": "flt9YFpXj8_w"
      },
      "outputs": [],
      "source": [
        "train = df.copy()"
      ]
    },
    {
      "cell_type": "code",
      "execution_count": null,
      "metadata": {
        "id": "dMqMzULej8_w"
      },
      "outputs": [],
      "source": [
        "te = test.copy()"
      ]
    },
    {
      "cell_type": "code",
      "execution_count": null,
      "metadata": {
        "id": "5GvBZ69xj8_w",
        "outputId": "50da321c-79b4-432a-b76f-4a53b47612ae"
      },
      "outputs": [
        {
          "data": {
            "text/plain": [
              "brand              0\n",
              "model              0\n",
              "model_year         0\n",
              "milage             0\n",
              "fuel_type       5864\n",
              "engine             0\n",
              "transmission       0\n",
              "ext_col            0\n",
              "int_col            0\n",
              "accident        2452\n",
              "price              0\n",
              "dtype: int64"
            ]
          },
          "execution_count": 14,
          "metadata": {},
          "output_type": "execute_result"
        }
      ],
      "source": [
        "train.isna().sum()"
      ]
    },
    {
      "cell_type": "code",
      "execution_count": null,
      "metadata": {
        "id": "efIN8jEOj8_w"
      },
      "outputs": [],
      "source": []
    },
    {
      "cell_type": "code",
      "execution_count": null,
      "metadata": {
        "id": "rS57rDPEj8_w"
      },
      "outputs": [],
      "source": [
        "#engine\n",
        "def extract_data_from_engine(df):\n",
        "    # Extract horsepower (HP) and convert to float\n",
        "    df['horsepower'] = df['engine'].str.extract(r'(\\d+\\.\\d+)(?=\\s*HP)')[0].astype(float)\n",
        "\n",
        "    # Extract engine size (L) and convert to float\n",
        "    df['engine_size'] = df['engine'].str.extract(r'(\\d+\\.\\d+)(?=\\s*L)')[0].astype(float)\n",
        "\n",
        "    # Extract number of cylinders and convert to float\n",
        "    df['cylinders'] = df['engine'].str.extract(r'(\\d+)\\s*(?:Cylinder|V\\d|Straight)')[0].astype(float)\n",
        "\n",
        "    return df"
      ]
    },
    {
      "cell_type": "code",
      "execution_count": null,
      "metadata": {
        "id": "vpQk7unJj8_x"
      },
      "outputs": [],
      "source": [
        "train = extract_data_from_engine(train)\n",
        "te = extract_data_from_engine(te)\n"
      ]
    },
    {
      "cell_type": "code",
      "execution_count": null,
      "metadata": {
        "id": "yjYt1YVpj8_x"
      },
      "outputs": [],
      "source": [
        "def extract_fuel_type(engine_info):\n",
        "    if 'gasoline' in engine_info.lower():\n",
        "        return 'Gasoline'\n",
        "    elif 'hybrid' in engine_info.lower():\n",
        "        return 'Hybrid'\n",
        "    elif 'flex fuel' in engine_info.lower() or 'e85' in engine_info.lower():\n",
        "        return 'Flex Fuel'\n",
        "    elif 'diesel' in engine_info.lower():\n",
        "        return 'Diesel'\n",
        "    elif 'electric' in engine_info.lower():\n",
        "        return 'Electric'\n",
        "    else:\n",
        "        return np.nan\n",
        "\n",
        "train['extracted_fuel_type'] = train['engine'].apply(extract_fuel_type)\n",
        "train['fuel_type'] = train['fuel_type'].fillna(train['extracted_fuel_type'])\n"
      ]
    },
    {
      "cell_type": "code",
      "execution_count": null,
      "metadata": {
        "id": "XZstFqoTj8_x"
      },
      "outputs": [],
      "source": [
        "te['extracted_fuel_type'] = te['engine'].apply(extract_fuel_type)\n",
        "te['fuel_type'] = te['fuel_type'].fillna(train['extracted_fuel_type'])\n"
      ]
    },
    {
      "cell_type": "code",
      "execution_count": null,
      "metadata": {
        "id": "BdHsfcicj8_x"
      },
      "outputs": [],
      "source": [
        "train.drop(columns=['extracted_fuel_type'], inplace=True)\n",
        "train.drop(columns=['engine'], inplace=True)\n"
      ]
    },
    {
      "cell_type": "code",
      "execution_count": null,
      "metadata": {
        "id": "d962BGZLj8_x"
      },
      "outputs": [],
      "source": [
        "te.drop(columns=['extracted_fuel_type'], inplace=True)\n",
        "te.drop(columns=['engine'], inplace=True)\n"
      ]
    },
    {
      "cell_type": "code",
      "execution_count": null,
      "metadata": {
        "id": "LZwMDpj-j8_x"
      },
      "outputs": [],
      "source": [
        "train.drop(columns=['model'], inplace=True)\n",
        "te.drop(columns=['model'], inplace=True)"
      ]
    },
    {
      "cell_type": "code",
      "execution_count": null,
      "metadata": {
        "id": "3n10wL-Tj8_x",
        "outputId": "a5ba6d50-36f0-4fdd-b077-d510e99ea55a"
      },
      "outputs": [
        {
          "data": {
            "text/plain": [
              "brand               0\n",
              "model_year          0\n",
              "milage              0\n",
              "fuel_type         951\n",
              "transmission        0\n",
              "ext_col             0\n",
              "int_col             0\n",
              "accident         2452\n",
              "price               0\n",
              "horsepower      33259\n",
              "engine_size      6698\n",
              "cylinders       37855\n",
              "dtype: int64"
            ]
          },
          "execution_count": 22,
          "metadata": {},
          "output_type": "execute_result"
        }
      ],
      "source": [
        "train.isna().sum()"
      ]
    },
    {
      "cell_type": "code",
      "execution_count": null,
      "metadata": {
        "id": "LKihbmmxj8_x",
        "outputId": "5728f79b-9a9c-4aa4-efc1-fadc8335aaba"
      },
      "outputs": [
        {
          "data": {
            "text/plain": [
              "brand               0\n",
              "model_year          0\n",
              "milage              0\n",
              "fuel_type           0\n",
              "transmission        0\n",
              "ext_col             0\n",
              "int_col             0\n",
              "accident         2452\n",
              "price               0\n",
              "horsepower      33259\n",
              "engine_size      6698\n",
              "cylinders       37855\n",
              "dtype: int64"
            ]
          },
          "execution_count": 23,
          "metadata": {},
          "output_type": "execute_result"
        }
      ],
      "source": [
        "train['fuel_type'] = train['fuel_type'].fillna(\"unknown\")\n",
        "train.isna().sum()"
      ]
    },
    {
      "cell_type": "code",
      "execution_count": null,
      "metadata": {
        "id": "AKZybR1Zj8_y"
      },
      "outputs": [],
      "source": [
        "te['fuel_type'] = te['fuel_type'].fillna(\"unknown\")\n"
      ]
    },
    {
      "cell_type": "code",
      "execution_count": null,
      "metadata": {
        "id": "rFaxnc8uj8_y"
      },
      "outputs": [],
      "source": [
        "def less_variaty(x):\n",
        "    if 'hybrid' in x.lower():\n",
        "        return 'Hybrid'\n",
        "    elif 'flex fuel' in x.lower():\n",
        "        return 'Flex Fuel'\n",
        "    else:\n",
        "        return x\n",
        "\n",
        "train['fuel_type'] = train['fuel_type'].apply(less_variaty)\n",
        "te['fuel_type'] = te['fuel_type'].apply(less_variaty)\n",
        "\n"
      ]
    },
    {
      "cell_type": "code",
      "execution_count": null,
      "metadata": {
        "id": "jzlxj-bwj8_y",
        "outputId": "9a24e153-9d40-49f0-9b18-30536f95f043"
      },
      "outputs": [
        {
          "data": {
            "image/png": "[encoded data removed]",
            "text/plain": [
              "<Figure size 1000x600 with 1 Axes>"
            ]
          },
          "metadata": {},
          "output_type": "display_data"
        },
        {
          "name": "stdout",
          "output_type": "stream",
          "text": [
            "['not supported', 'Flex Fuel', 'unknown', 'Gasoline', 'Diesel', 'Hybrid', 'Electric']\n"
          ]
        }
      ],
      "source": [
        "#brand\n",
        "\n",
        "# Group by 'brand' and calculate the average price\n",
        "fuel_type_price = train.groupby('fuel_type')['price'].mean().sort_values(ascending=True)\n",
        "\n",
        "# Convert the result to a list of sorted brands\n",
        "sorted_fuel_type = fuel_type_price.index.tolist()\n",
        "\n",
        "# Visualization: Bar chart of average price by brand\n",
        "plt.figure(figsize=(10, 6))\n",
        "fuel_type_price.plot(kind='bar', color='skyblue')\n",
        "plt.title('Average Car Price by fuel_type')\n",
        "plt.xlabel('fuel_type')\n",
        "plt.xticks(rotation=90)  # Rotate brand names for better readability\n",
        "plt.tight_layout()\n",
        "plt.show()\n",
        "\n",
        "# Print sorted brands list\n",
        "print(sorted_fuel_type)\n",
        "\n",
        "#label this according to this list\n"
      ]
    },
    {
      "cell_type": "code",
      "execution_count": null,
      "metadata": {
        "id": "rxqlCe6Pj8_y"
      },
      "outputs": [],
      "source": [
        "fuel_to_index = {fuel: index for index, fuel in enumerate(sorted_fuel_type)}\n",
        "\n",
        "# Replace brand names with their indices\n",
        "train['fuel_type'] = train['fuel_type'].map(fuel_to_index)"
      ]
    },
    {
      "cell_type": "code",
      "execution_count": null,
      "metadata": {
        "id": "bFuNnJlnj8_y"
      },
      "outputs": [],
      "source": [
        "te['fuel_type'] = te['fuel_type'].map(fuel_to_index)"
      ]
    },
    {
      "cell_type": "code",
      "execution_count": null,
      "metadata": {
        "id": "ydWdW-RVj8_y",
        "outputId": "b81b430d-558e-430b-fe35-7dd0cb11aa35"
      },
      "outputs": [
        {
          "data": {
            "image/png": "[encoded data removed]",
            "text/plain": [
              "<Figure size 1000x600 with 1 Axes>"
            ]
          },
          "metadata": {},
          "output_type": "display_data"
        }
      ],
      "source": [
        "#handle missing values in totalcharges\n",
        "# Plotting the histogram\n",
        "plt.figure(figsize=(10, 6))\n",
        "plt.hist(train['horsepower'], color='blue', edgecolor='black')\n",
        "plt.title('Histogram of horsepower')\n",
        "plt.xlabel('horsepower')\n",
        "plt.ylabel('Frequency')\n",
        "plt.grid(axis='y', alpha=0.75)\n",
        "plt.show()"
      ]
    },
    {
      "cell_type": "code",
      "execution_count": null,
      "metadata": {
        "id": "jx0-pDWWj8_y",
        "outputId": "40e3c1e9-3dd0-4073-ab0e-862e82a4ded3"
      },
      "outputs": [
        {
          "data": {
            "image/png": "[encoded data removed]",
            "text/plain": [
              "<Figure size 1000x600 with 1 Axes>"
            ]
          },
          "metadata": {},
          "output_type": "display_data"
        }
      ],
      "source": [
        "#handle missing values in totalcharges\n",
        "# Plotting the histogram\n",
        "plt.figure(figsize=(10, 6))\n",
        "plt.hist(train['engine_size'], color='blue', edgecolor='black')\n",
        "plt.title('Histogram of engine_size')\n",
        "plt.xlabel('engine_size')\n",
        "plt.ylabel('Frequency')\n",
        "plt.grid(axis='y', alpha=0.75)\n",
        "plt.show()"
      ]
    },
    {
      "cell_type": "code",
      "execution_count": null,
      "metadata": {
        "id": "8FLqwF21j8_z",
        "outputId": "d158cea0-d4aa-4add-f1f9-8260ef272fdb"
      },
      "outputs": [
        {
          "data": {
            "image/png": "[encoded data removed]",
            "text/plain": [
              "<Figure size 1000x600 with 1 Axes>"
            ]
          },
          "metadata": {},
          "output_type": "display_data"
        }
      ],
      "source": [
        "#handle missing values in totalcharges\n",
        "# Plotting the histogram\n",
        "plt.figure(figsize=(10, 6))\n",
        "plt.hist(train['cylinders'], color='blue', edgecolor='black')\n",
        "plt.title('Histogram of cylinders')\n",
        "plt.xlabel('cylinders')\n",
        "plt.ylabel('Frequency')\n",
        "plt.grid(axis='y', alpha=0.75)\n",
        "plt.show()"
      ]
    },
    {
      "cell_type": "markdown",
      "metadata": {
        "id": "vKKiStcTj8_z"
      },
      "source": [
        "#distribution of cylinders is skewed towards 4, 6, and 8 cylinders --> fill the missing values using the mode\n",
        "#distribution of engine_size is  concentrated around 3 to 4 liters --> fill with median\n",
        "#distribution of horsepower is a right-skewed , with most cars having between 200 and 400 horsepower --> fill with median or mean\n"
      ]
    },
    {
      "cell_type": "code",
      "execution_count": null,
      "metadata": {
        "id": "x4dDjfFyj8_z"
      },
      "outputs": [],
      "source": [
        "mc_train = train['cylinders'].mode()[0]\n",
        "em_train = train['engine_size'].mean()\n",
        "hc_train = train['horsepower'].mean()\n",
        "\n",
        "train['cylinders'].fillna(mc_train, inplace=True)\n",
        "train['engine_size'].fillna(em_train, inplace=True)\n",
        "train['horsepower'].fillna(hc_train, inplace=True)\n"
      ]
    },
    {
      "cell_type": "code",
      "execution_count": null,
      "metadata": {
        "id": "dawGjI_Qj8_z"
      },
      "outputs": [],
      "source": [
        "te['cylinders'].fillna(mc_train, inplace=True)\n",
        "te['engine_size'].fillna(em_train, inplace=True)\n",
        "te['horsepower'].fillna(hc_train, inplace=True)"
      ]
    },
    {
      "cell_type": "code",
      "execution_count": null,
      "metadata": {
        "id": "-7OpdMyDj8_z",
        "outputId": "f8ccf8d4-b26e-449d-f217-7a50bff6f210"
      },
      "outputs": [
        {
          "data": {
            "text/plain": [
              "brand              0\n",
              "model_year         0\n",
              "milage             0\n",
              "fuel_type          0\n",
              "transmission       0\n",
              "ext_col            0\n",
              "int_col            0\n",
              "accident        2452\n",
              "price              0\n",
              "horsepower         0\n",
              "engine_size        0\n",
              "cylinders          0\n",
              "dtype: int64"
            ]
          },
          "execution_count": 34,
          "metadata": {},
          "output_type": "execute_result"
        }
      ],
      "source": [
        "train.isna().sum()"
      ]
    },
    {
      "cell_type": "code",
      "execution_count": null,
      "metadata": {
        "id": "P3Uaj-SFj8_z"
      },
      "outputs": [],
      "source": [
        "#transmission\n",
        "train['transmission'] = train['transmission'].apply(lambda x: 'automatic' if 'a/t' in x.lower() or 'automatic' in x.lower() else 'manual')\n",
        "te['transmission'] = te['transmission'].apply(lambda x: 'automatic' if 'a/t' in x.lower() or 'automatic' in x.lower() else 'manual')\n"
      ]
    },
    {
      "cell_type": "code",
      "execution_count": null,
      "metadata": {
        "id": "cGprjs85j8_3",
        "outputId": "eb7259e9-affb-4c80-9bd8-a99361d9ad1e"
      },
      "outputs": [
        {
          "data": {
            "image/png": "[encoded data removed]",
            "text/plain": [
              "<Figure size 1000x600 with 1 Axes>"
            ]
          },
          "metadata": {},
          "output_type": "display_data"
        },
        {
          "name": "stdout",
          "output_type": "stream",
          "text": [
            "['manual', 'automatic']\n"
          ]
        }
      ],
      "source": [
        "#brand\n",
        "\n",
        "# Group by 'brand' and calculate the average price\n",
        "transmission_price = train.groupby('transmission')['price'].mean().sort_values(ascending=True)\n",
        "\n",
        "# Convert the result to a list of sorted brands\n",
        "sorted_transmission = transmission_price.index.tolist()\n",
        "\n",
        "# Visualization: Bar chart of average price by brand\n",
        "plt.figure(figsize=(10, 6))\n",
        "transmission_price.plot(kind='bar', color='skyblue')\n",
        "plt.title('Average Car Price by transmission')\n",
        "plt.xlabel('transmission')\n",
        "plt.xticks(rotation=90)  # Rotate brand names for better readability\n",
        "plt.tight_layout()\n",
        "plt.show()\n",
        "\n",
        "# Print sorted brands list\n",
        "print(sorted_transmission)\n",
        "\n",
        "#label this according to this list\n"
      ]
    },
    {
      "cell_type": "code",
      "execution_count": null,
      "metadata": {
        "id": "XBat0oQDj8_3"
      },
      "outputs": [],
      "source": [
        "#encoding\n",
        "train['transmission'] = train[\"transmission\"].map({\"automatic\":1, \"manual\":0})\n",
        "te['transmission'] = te[\"transmission\"].map({\"automatic\":1, \"manual\":0})\n"
      ]
    },
    {
      "cell_type": "code",
      "execution_count": null,
      "metadata": {
        "id": "OLrnYXtsj8_3"
      },
      "outputs": [],
      "source": [
        "train['Vehicle_Age'] = 2024 - train['model_year']\n",
        "te['Vehicle_Age'] = 2024 - te['model_year']"
      ]
    },
    {
      "cell_type": "markdown",
      "metadata": {
        "id": "rvEpYjUdj8_3"
      },
      "source": [
        "ACCIDENT NULL FILLING USING KNN"
      ]
    },
    {
      "cell_type": "code",
      "execution_count": null,
      "metadata": {
        "id": "Ks_We2Bjj8_3",
        "outputId": "222a896a-b926-4e16-e8bd-423c94d67c12"
      },
      "outputs": [
        {
          "name": "stdout",
          "output_type": "stream",
          "text": [
            "Remaining NaN in 'accident': 0\n"
          ]
        }
      ],
      "source": [
        "from sklearn.impute import KNNImputer\n",
        "\n",
        "# Map 'accident' column to binary values\n",
        "train['accident'] = train[\"accident\"].map({\"None reported\": 0, \"At least 1 accident or damage reported\": 1})\n",
        "te['accident'] = te[\"accident\"].map({\"None reported\": 0, \"At least 1 accident or damage reported\": 1})\n",
        "\n",
        "# Include 'model_year' and 'price' to help in imputing 'accident'\n",
        "train_features = train[['model_year','transmission','horsepower', 'accident']]\n",
        "\n",
        "# Initialize KNN Imputer\n",
        "imputer = KNNImputer(n_neighbors=5)\n",
        "\n",
        "# Impute the missing values\n",
        "train_imputed = imputer.fit_transform(train_features)\n",
        "\n",
        "# Extract the imputed 'accident' values (last column of the imputed result)\n",
        "train['accident'] = train_imputed[:, -1]\n",
        "\n",
        "# Ensure that no NaN values remain\n",
        "print(\"Remaining NaN in 'accident':\", train['accident'].isna().sum())\n",
        "\n",
        "# For the test dataset (assuming the same process for 'te'):\n",
        "te_features = te[['model_year','transmission','horsepower', 'accident']]\n",
        "te_imputed = imputer.transform(te_features)\n",
        "te['accident'] = te_imputed[:, -1]\n"
      ]
    },
    {
      "cell_type": "code",
      "execution_count": null,
      "metadata": {
        "id": "b954jDELj8_3",
        "outputId": "d1c3dee3-18ed-43e0-bf97-8256f719a9ec"
      },
      "outputs": [
        {
          "data": {
            "text/plain": [
              "array([0. , 1. , 0.4, 0.2, 0.6, 0.8])"
            ]
          },
          "execution_count": 40,
          "metadata": {},
          "output_type": "execute_result"
        }
      ],
      "source": [
        "te['accident'].unique()"
      ]
    },
    {
      "cell_type": "code",
      "execution_count": null,
      "metadata": {
        "id": "urlrNxRoj8_4",
        "outputId": "6ad44ad6-faa3-4125-d7d0-711b5a257fbb"
      },
      "outputs": [
        {
          "data": {
            "image/png": "[encoded data removed]",
            "text/plain": [
              "<Figure size 1000x600 with 1 Axes>"
            ]
          },
          "metadata": {},
          "output_type": "display_data"
        },
        {
          "name": "stdout",
          "output_type": "stream",
          "text": [
            "[1, 0]\n"
          ]
        }
      ],
      "source": [
        "#brand\n",
        "train['accident'] = train['accident'].round().astype(int)\n",
        "te['accident'] = te['accident'].round().astype(int)\n",
        "\n",
        "\n",
        "# Group by 'brand' and calculate the average price\n",
        "accident_price = train.groupby('accident')['price'].mean().sort_values(ascending=True)\n",
        "\n",
        "# Convert the result to a list of sorted brands\n",
        "sorted_accident = accident_price.index.tolist()\n",
        "\n",
        "# Visualization: Bar chart of average price by brand\n",
        "plt.figure(figsize=(10, 6))\n",
        "accident_price.plot(kind='bar', color='skyblue')\n",
        "plt.title('Average Car Price by accident')\n",
        "plt.xlabel('accident')\n",
        "plt.xticks(rotation=90)  # Rotate brand names for better readability\n",
        "plt.tight_layout()\n",
        "plt.show()\n",
        "\n",
        "# Print sorted brands list\n",
        "print(sorted_accident)\n",
        "\n",
        "#label this according to this list\n"
      ]
    },
    {
      "cell_type": "markdown",
      "metadata": {
        "id": "H-xvlOejj8_4"
      },
      "source": [
        "COLORS HANDLING"
      ]
    },
    {
      "cell_type": "code",
      "execution_count": null,
      "metadata": {
        "id": "AZIt5_jmj8_4"
      },
      "outputs": [],
      "source": [
        "\n",
        "int_replacements = {\n",
        "    'Medium Earth Gray': 'Gray',\n",
        "    'Diesel Gray / Black': 'Gray',\n",
        "    'Dark Ash': 'Gray',\n",
        "    'Graphite': 'Gray',\n",
        "    'Dark Galvanized': 'Charcoal',\n",
        "    'Light Gray': 'Gray',\n",
        "    'Ash': 'Gray',\n",
        "    'Jet Black': 'Black',\n",
        "    'Global Black': 'Black',\n",
        "    'Black Onyx': 'Black',\n",
        "    'Parchment.': 'Beige',\n",
        "    'Sardar Brown': 'Brown',\n",
        "    'Black/Gun Metal': 'Black',\n",
        "    'Charcoal Black': 'Charcoal',\n",
        "    'Ebony': 'Brown',\n",
        "    'Ebony Black': 'Black',\n",
        "    'Carbon Black': 'Black',\n",
        "    'Obsidian Black': 'Black',\n",
        "    'Black / Saddle Brown': 'Black',\n",
        "    'Black/Saddle Brown': 'Black',\n",
        "    'Black / Brown': 'Black',\n",
        "    'Saddle Brown': 'Brown',\n",
        "    'Sand Beige': 'Beige',    'Camel': 'Beige',\n",
        "    'Parchment': 'Beige',\n",
        "    'Macchiato Beige/Black': 'Beige',\n",
        "    'Silk Beige/Espresso Brown': 'Beige',\n",
        "    'Canberra Beige': 'Beige',\n",
        "    'Macchiato': 'Beige',\n",
        "    'Almond Beige': 'Beige',\n",
        "    'Grace White': 'White',\n",
        "    'Ivory / Ebony': 'White',\n",
        "    'Bianco Polar': 'White',\n",
        "    'White / Brown': 'White',\n",
        "    'Platinum': 'White',\n",
        "    'Cloud': 'Blue',\n",
        "    'Rift Metallic': 'White',\n",
        "    'Light Platinum / Jet Black': 'Silver',\n",
        "    'Billet Clearcoat Metallic': 'Silver',\n",
        "    'Sakhir Orange': 'Orange',\n",
        "    'Pimento Red w/Ebony': 'Red',\n",
        "    'Adrenaline Red': 'Red',\n",
        "    'Rioja Red': 'Red',\n",
        "    'Classic Red': 'Red',\n",
        "    'Magma Red': 'Red',    'Cobalt Blue': 'Blue',\n",
        "    'Tempest': 'Blue',\n",
        "    'Stormy Sea': 'Blue',\n",
        "    'Navy Pier': 'Blue',\n",
        "    'Charles Blue': 'Blue',\n",
        "    'Rhapsody Blue': 'Blue',\n",
        "    'Kyalami Orange': 'Orange',\n",
        "    'Sakhir Orange/Black': 'Orange',\n",
        "    'Dark Gray': 'Gray',\n",
        "    'Deep Garnet': 'Red',\n",
        "    'Scarlet Ember': 'Red',\n",
        "    'Beluga': 'Blue',\n",
        "    'Chestnut': 'Brown',\n",
        "    'Boulder': 'Gray',\n",
        "    'Macchiato/Magmagrey': 'Beige',\n",
        "    'Medium Stone': 'Gray',\n",
        "    'BLACK': 'Black',\n",
        "    'Portland': 'Gray',\n",
        "    'Sandstone': 'Beige',\n",
        "    'Slate': 'Gray',\n",
        "    'Cappuccino': 'Brown',\n",
        "    'Oyster W/Contrast': 'Beige',\n",
        "    'Nero Ade': 'Black',\n",
        "    'Light Titanium': 'Silver',    'Tan': 'Beige',\n",
        "    'Brandy': 'Brown',\n",
        "    'Amber': 'Yellow',\n",
        "    'Hotspur': 'Blue',\n",
        "    'Chateau': 'Green',\n",
        "    'Ice': 'Blue',\n",
        "    'Blk': 'Black',\n",
        "    'Mesa': 'Brown',\n",
        "    'Espresso': 'Brown',\n",
        "    'Ceramic': 'White',\n",
        "    'Medium Dark Slate': 'Gray',\n",
        "    'Graphite w/Gun Metal': 'Gray',\n",
        "    'Cocoa / Dune': 'Brown',\n",
        "    'Roast': 'Brown',\n",
        "    'Hotspur Hide': 'Brown',\n",
        "    'ORANGE': 'Orange',\n",
        "    'Walnut': 'Brown',\n",
        "    'Caramel': 'Beige',\n",
        "    'Giallo Taurus / Nero Ade': 'Yellow',\n",
        "    'Medium Pewter': 'Gray',\n",
        "    'Camel Leather': 'Brown',\n",
        "    'Anthracite': 'Gray',\n",
        "    'Mocha': 'Brown',   'Sahara Tan': 'Beige',\n",
        "    'Porpoise': 'Beige',\n",
        "    'Deep Cypress': 'Green',\n",
        "    'Light Slate': 'Gray',\n",
        "    'Beluga Hide': 'Black',\n",
        "    'Tupelo': 'Green',\n",
        "    'Gideon': 'Beige',\n",
        "    'Medium Light Camel': 'Beige',\n",
        "    'Nero': 'Black',\n",
        "    'Deep Chestnut': 'Red',\n",
        "    'Dark Auburn': 'Brown',\n",
        "    'Shale': 'Gray',\n",
        "    'BEIGE': 'Beige',\n",
        "    'Linen': 'Beige',\n",
        "    'WHITE': 'White'\n",
        "}\n",
        "ext_replacements = {\n",
        "    'Blu': 'Blue',\n",
        "    'BLUE': 'Blue',\n",
        "    'Glacier': 'Blue',\n",
        "    'BLU ELEOS': 'Blue',\n",
        "    'Dark Sapphire': 'Navy',\n",
        "    'Tangerine': 'Orange',\n",
        "    'Pumpkin': 'Orange',\n",
        "    'Clementine': 'Orange',\n",
        "    'Granite': 'Gray',\n",
        "    'Go Mango!': 'Yellow',\n",
        "    'Onyx': 'Black',\n",
        "    'Gecko Pearlcoat': 'Green',\n",
        "    'Obsidian': 'Black',\n",
        "    'Metallic': 'Silver',\n",
        "    'Grigio Nimbus': 'Silver',\n",
        "    'Chalk': 'White',\n",
        "    'Bianco Monocerus': 'White',\n",
        "    'Verde': 'Green',\n",
        "    'Dark Graphite Metallic': 'Gray',\n",
        "    'BLACK': 'Black',\n",
        "    'Dark Moss': 'Green',\n",
        "    'Granite Crystal Clearcoat Metallic': 'Gray',    'Ebony Twilight Metallic': 'Black',\n",
        "    'Satin Steel Metallic': 'Silver',\n",
        "    'Magnetic Metallic': 'Gray',\n",
        "    'Dark Matter Metallic': 'Gray',\n",
        "    'Dark Ash Metallic': 'Gray',\n",
        "    'Iridium Metallic': 'Gray',\n",
        "    'Nightfall Mica': 'Navy',\n",
        "    'Sandstone Metallic': 'Beige',\n",
        "    'Rift Metallic': 'White',\n",
        "    'Billet Clearcoat Metallic': 'Silver',\n",
        "    'Tan': 'Beige',\n",
        "    'Ice': 'Blue',\n",
        "    'Hellayella': 'Yellow',\n",
        "    'Granite': 'Gray',\n",
        "    'Yulong': 'White',\n",
        "    'Blueprint': 'Navy',\n",
        "    'Arancio Borealis': 'Orange',\n",
        "    'Hellayella Clearcoat': 'Yellow',\n",
        "    'Moonlight Cloud': 'Navy',\n",
        "    'Liquid Platinum': 'Silver',\n",
        "    'Gun Metallic': 'Gray',\n",
        "    'Manhattan Noir Metallic': 'Gray',    'Lavender': 'Purple',\n",
        "    'Violet': 'Purple',\n",
        "    'Pink': 'Purple',\n",
        "    'Mauve': 'Plum',\n",
        "    'Tempest': 'Blue',\n",
        "    'Nero Daytona': 'Black',\n",
        "    'Scarlet Ember': 'Red',\n",
        "    'Infrared Tintcoat': 'Red',\n",
        "    'Maximum Steel Metallic': 'Gray',\n",
        "    'Ember Pearlcoat': 'Brown',\n",
        "    'Rich Garnet Metallic': 'Brown',\n",
        "    'Tungsten Metallic': 'Gray',\n",
        "    'Nero Noctis': 'Black',\n",
        "    'Platinum Quartz Metallic': 'White',\n",
        "    'Ruby Flare Pearl': 'Red',\n",
        "    'Bianco Icarus Metallic': 'White',\n",
        "    'Stormy Sea': 'Blue',\n",
        "    'Mountain Air Metallic': 'Blue',\n",
        "    'Wind Chill Pearl': 'White',\n",
        "    'Iridescent Pearl Tricoat': 'White',\n",
        "    'Black Cherry': 'Plum',\n",
        "    'Black Forest Green': 'Green',\n",
        "    'Maroon': 'Red',\n",
        "    'Rosso': 'Red',    'Rosso Corsa': 'Red',\n",
        "    'Rosso Mars Metallic': 'Red',\n",
        "    'Quicksilver Metallic': 'Silver',\n",
        "    'Designo Magno Matte': 'Gray',\n",
        "    'Granite Crystal Metallic Clearcoat': 'Gray',\n",
        "    'Bianco Isis': 'White',\n",
        "    'Sunset Drift Chromaflair': 'Orange',\n",
        "    'Ametrin Metallic': 'Plum',\n",
        "    'GT SILVER': 'Silver',\n",
        "    'Caviar': 'Black'\n",
        "}\n"
      ]
    },
    {
      "cell_type": "code",
      "execution_count": null,
      "metadata": {
        "id": "lqP6wD3kj8_4",
        "outputId": "dad66d31-cb7f-4daf-dd77-64d6547e6248"
      },
      "outputs": [
        {
          "name": "stdout",
          "output_type": "stream",
          "text": [
            "156\n",
            "319\n"
          ]
        }
      ],
      "source": [
        "#color column handling\n",
        "print(train['int_col'].nunique())\n",
        "print(train['ext_col'].nunique())\n"
      ]
    },
    {
      "cell_type": "code",
      "execution_count": null,
      "metadata": {
        "id": "Rd0_78LPj8_4"
      },
      "outputs": [],
      "source": [
        "train['int_col'] = train['int_col'].replace(int_replacements)\n",
        "\n",
        "# For external color mapping\n",
        "train['ext_col'] = train['ext_col'].replace(ext_replacements)"
      ]
    },
    {
      "cell_type": "code",
      "execution_count": null,
      "metadata": {
        "id": "qhmQwUz3j8_5"
      },
      "outputs": [],
      "source": [
        "base_colors = ['black', 'white', 'gray', 'silver', 'brown', 'red', 'blue', 'green',\n",
        "     'beige', 'tan', 'orange', 'yellow', 'purple', 'plum', 'charcoal',\n",
        "     'ivory', 'camel', 'chestnut', 'pearl', 'linen', 'graphite', 'copper',\n",
        "     'slate', 'bronze', 'sand', 'amber', 'macchiato', 'ebony', 'cocoa', 'navy'\n",
        "    ]\n",
        "\n",
        "\n",
        "def find_base_color(text):\n",
        "    for color in base_colors:\n",
        "        if color in text:\n",
        "            return color\n",
        "\n",
        "train['int_col'] = train['int_col'].str.lower()\n",
        "train['ext_col'] = train['ext_col'].str.lower()\n",
        "\n",
        "te['int_col'] = te['int_col'].str.lower()\n",
        "te['ext_col'] = te['ext_col'].str.lower()\n",
        "\n",
        "train['int_col'] = train['int_col'].apply(find_base_color)\n",
        "train['ext_col'] = train['ext_col'].apply(find_base_color)\n",
        "\n",
        "te['int_col'] = te['int_col'].apply(find_base_color)\n",
        "te['ext_col'] = te['ext_col'].apply(find_base_color)\n"
      ]
    },
    {
      "cell_type": "code",
      "execution_count": null,
      "metadata": {
        "id": "OTDmTgh7j8_5"
      },
      "outputs": [],
      "source": [
        "color_threshold = 50  # Threshold to decide frequent vs infrequent\n",
        "# For internal color\n",
        "value_counts_int_col = train['int_col'].value_counts()\n",
        "freq_int_colors = value_counts_int_col[value_counts_int_col > color_threshold].index   #index is the color\n",
        "train['int_col'] = train['int_col'].apply(lambda x: x if x in freq_int_colors else 'Other')\n",
        "\n",
        "# For external color\n",
        "value_counts_ext_col = train['ext_col'].value_counts()\n",
        "freq_ext_colors = value_counts_ext_col[value_counts_ext_col > color_threshold].index   #index is the color\n",
        "train['ext_col'] = train['ext_col'].apply(lambda x: x if x in freq_ext_colors else 'Other')\n",
        "\n",
        "train['int_col'] = train['int_col'].replace('–', 'Other')\n",
        "train['ext_col'] = train['ext_col'].replace('–', 'Other')"
      ]
    },
    {
      "cell_type": "code",
      "execution_count": null,
      "metadata": {
        "id": "H5uGB8zBj8_5"
      },
      "outputs": [],
      "source": [
        "te['int_col'] = te['int_col'].apply(lambda x: x if x in freq_int_colors else 'Other')\n",
        "te['ext_col'] = te['ext_col'].apply(lambda x: x if x in freq_ext_colors else 'Other')\n",
        "te['int_col'] = te['int_col'].replace('–' , 'Other')\n",
        "te['ext_col'] = te['ext_col'].replace('–', 'Other')\n"
      ]
    },
    {
      "cell_type": "code",
      "execution_count": null,
      "metadata": {
        "id": "ghFvXEA1j8_5",
        "outputId": "e813a226-db5d-485f-ead2-cb892f25b849"
      },
      "outputs": [
        {
          "name": "stdout",
          "output_type": "stream",
          "text": [
            "15\n",
            "16\n"
          ]
        }
      ],
      "source": [
        "print(train['int_col'].nunique())\n",
        "print(train['ext_col'].nunique())"
      ]
    },
    {
      "cell_type": "code",
      "execution_count": null,
      "metadata": {
        "id": "fdPt5ZvGj8_5",
        "outputId": "a0d6292a-1e33-403d-b05a-b85f347ab96f"
      },
      "outputs": [
        {
          "data": {
            "image/png": "[encoded data removed]",
            "text/plain": [
              "<Figure size 1000x600 with 1 Axes>"
            ]
          },
          "metadata": {},
          "output_type": "display_data"
        },
        {
          "name": "stdout",
          "output_type": "stream",
          "text": [
            "['gray', 'beige', 'charcoal', 'silver', 'Other', 'black', 'brown', 'white', 'green', 'tan', 'red', 'orange', 'ebony', 'blue', 'yellow']\n"
          ]
        }
      ],
      "source": [
        "#brand\n",
        "\n",
        "# Group by 'brand' and calculate the average price\n",
        "int_col_price = train.groupby('int_col')['price'].mean().sort_values(ascending=True)\n",
        "\n",
        "# Convert the result to a list of sorted brands\n",
        "sorted_int_col = int_col_price.index.tolist()\n",
        "\n",
        "# Visualization: Bar chart of average price by brand\n",
        "plt.figure(figsize=(10, 6))\n",
        "int_col_price.plot(kind='bar', color='skyblue')\n",
        "plt.title('Average Car Price by int_col')\n",
        "plt.xlabel('int_col')\n",
        "plt.xticks(rotation=90)  # Rotate brand names for better readability\n",
        "plt.tight_layout()\n",
        "plt.show()\n",
        "\n",
        "# Print sorted brands list\n",
        "print(sorted_int_col)\n",
        "\n",
        "#label this according to this list\n"
      ]
    },
    {
      "cell_type": "code",
      "execution_count": null,
      "metadata": {
        "id": "oQTZDKgPj8_5",
        "outputId": "7a48031b-3659-424a-e448-268f384a1d6b"
      },
      "outputs": [
        {
          "data": {
            "image/png": "[encoded data removed]",
            "text/plain": [
              "<Figure size 2000x1000 with 1 Axes>"
            ]
          },
          "metadata": {},
          "output_type": "display_data"
        },
        {
          "name": "stdout",
          "output_type": "stream",
          "text": [
            "['beige', 'purple', 'silver', 'brown', 'white', 'plum', 'blue', 'red', 'yellow', 'black', 'gray', 'orange', 'Other', 'graphite', 'green', 'navy']\n"
          ]
        }
      ],
      "source": [
        "#brand\n",
        "\n",
        "# Group by 'brand' and calculate the average price\n",
        "ext_col_price = train.groupby('ext_col')['price'].mean().sort_values(ascending=True)\n",
        "\n",
        "# Convert the result to a list of sorted brands\n",
        "sorted_ext_col = ext_col_price.index.tolist()\n",
        "\n",
        "# Visualization: Bar chart of average price by brand\n",
        "plt.figure(figsize=(20, 10))\n",
        "ext_col_price.plot(kind='bar', color='skyblue')\n",
        "plt.title('Average Car Price by ext_col')\n",
        "plt.xlabel('ext_col')\n",
        "plt.xticks(rotation=90)  # Rotate brand names for better readability\n",
        "plt.tight_layout()\n",
        "plt.show()\n",
        "\n",
        "# Print sorted brands list\n",
        "print(sorted_ext_col)\n",
        "\n",
        "#label this according to this list\n"
      ]
    },
    {
      "cell_type": "code",
      "execution_count": null,
      "metadata": {
        "id": "uB3XZj8Wj8_6"
      },
      "outputs": [],
      "source": [
        "int_to_index = {int_c: index for index, int_c in enumerate(sorted_int_col)}\n",
        "\n",
        "# Replace brand names with their indices\n",
        "train['int_col'] = train['int_col'].map(int_to_index)"
      ]
    },
    {
      "cell_type": "code",
      "execution_count": null,
      "metadata": {
        "id": "4RbmaXgJj8_6"
      },
      "outputs": [],
      "source": [
        "ext_to_index = {ext: index for index, ext in enumerate(sorted_ext_col)}\n",
        "\n",
        "# Replace brand names with their indices\n",
        "train['ext_col'] = train['ext_col'].map(ext_to_index)"
      ]
    },
    {
      "cell_type": "code",
      "execution_count": null,
      "metadata": {
        "id": "LXAEGeRJj8_6"
      },
      "outputs": [],
      "source": [
        "te['int_col'] = te['int_col'].map(int_to_index)\n",
        "te['ext_col'] = te['ext_col'].map(ext_to_index)"
      ]
    },
    {
      "cell_type": "code",
      "execution_count": null,
      "metadata": {
        "id": "RM2jR_Rsj8_6",
        "outputId": "264b399a-1007-491b-b795-e49c5485513c"
      },
      "outputs": [
        {
          "ename": "NameError",
          "evalue": "name 'encoding' is not defined",
          "output_type": "error",
          "traceback": [
            "\u001b[1;31m---------------------------------------------------------------------------\u001b[0m",
            "\u001b[1;31mNameError\u001b[0m                                 Traceback (most recent call last)",
            "Cell \u001b[1;32mIn[54], line 1\u001b[0m\n\u001b[1;32m----> 1\u001b[0m \u001b[43mencoding\u001b[49m()\n",
            "\u001b[1;31mNameError\u001b[0m: name 'encoding' is not defined"
          ]
        }
      ],
      "source": [
        "encoding()"
      ]
    },
    {
      "cell_type": "markdown",
      "metadata": {
        "id": "d8h6Wb4rj8_6"
      },
      "source": [
        "BRAND HANDLING"
      ]
    },
    {
      "cell_type": "code",
      "execution_count": null,
      "metadata": {
        "id": "TAec4MOGj8_6",
        "outputId": "255a98ea-bef6-4632-94d4-985074fed335"
      },
      "outputs": [
        {
          "data": {
            "image/png": "[encoded data removed]",
            "text/plain": [
              "<Figure size 1000x600 with 1 Axes>"
            ]
          },
          "metadata": {},
          "output_type": "display_data"
        },
        {
          "name": "stdout",
          "output_type": "stream",
          "text": [
            "['Bugatti', 'Lamborghini', 'Rolls-Royce', 'Bentley', 'McLaren', 'Ferrari', 'Aston', 'Rivian', 'Porsche', 'Lucid', 'Maserati', 'Tesla', 'Maybach', 'Genesis', 'Land', 'Alfa', 'RAM', 'Mercedes-Benz', 'Jaguar', 'Cadillac', 'BMW', 'Chevrolet', 'Polestar', 'Audi', 'Ford', 'GMC', 'Kia', 'Karma', 'Lexus', 'smart', 'Jeep', 'INFINITI', 'Dodge', 'FIAT', 'Volvo', 'Lincoln', 'Suzuki', 'Buick', 'Nissan', 'Toyota', 'Acura', 'Saab', 'Plymouth', 'Chrysler', 'Lotus', 'Volkswagen', 'Mercury', 'Hyundai', 'Mazda', 'Honda', 'Pontiac', 'Subaru', 'Mitsubishi', 'Saturn', 'MINI', 'Hummer', 'Scion']\n"
          ]
        }
      ],
      "source": [
        "#brand\n",
        "\n",
        "# Group by 'brand' and calculate the average price\n",
        "brand_price = train.groupby('brand')['price'].mean().sort_values(ascending=False)\n",
        "\n",
        "# Convert the result to a list of sorted brands\n",
        "sorted_brands = brand_price.index.tolist()\n",
        "\n",
        "# Visualization: Bar chart of average price by brand\n",
        "plt.figure(figsize=(10, 6))\n",
        "brand_price.plot(kind='bar', color='skyblue')\n",
        "plt.title('Average Car Price by Brand')\n",
        "plt.xlabel('Brand')\n",
        "plt.ylabel('Average Price')\n",
        "plt.xticks(rotation=90)  # Rotate brand names for better readability\n",
        "plt.tight_layout()\n",
        "plt.show()\n",
        "\n",
        "# Print sorted brands list\n",
        "print(sorted_brands)\n",
        "\n",
        "#label this according to this list\n"
      ]
    },
    {
      "cell_type": "code",
      "execution_count": null,
      "metadata": {
        "id": "xWZ4wUJgj8_6",
        "outputId": "17fbda55-5969-4771-bcba-367a25f7a8ae"
      },
      "outputs": [
        {
          "data": {
            "text/plain": [
              "['Bugatti',\n",
              " 'Lamborghini',\n",
              " 'Rolls-Royce',\n",
              " 'Bentley',\n",
              " 'McLaren',\n",
              " 'Ferrari',\n",
              " 'Aston',\n",
              " 'Rivian',\n",
              " 'Porsche',\n",
              " 'Lucid',\n",
              " 'Maserati',\n",
              " 'Tesla',\n",
              " 'Maybach',\n",
              " 'Genesis',\n",
              " 'Land',\n",
              " 'Alfa',\n",
              " 'RAM',\n",
              " 'Mercedes-Benz',\n",
              " 'Jaguar',\n",
              " 'Cadillac',\n",
              " 'BMW',\n",
              " 'Chevrolet',\n",
              " 'Polestar',\n",
              " 'Audi',\n",
              " 'Ford',\n",
              " 'GMC',\n",
              " 'Kia',\n",
              " 'Karma',\n",
              " 'Lexus']"
            ]
          },
          "execution_count": 56,
          "metadata": {},
          "output_type": "execute_result"
        }
      ],
      "source": [
        "top_29_brands = sorted_brands[:29]\n",
        "top_29_brands"
      ]
    },
    {
      "cell_type": "code",
      "execution_count": null,
      "metadata": {
        "id": "TJ03q6Suj8_7"
      },
      "outputs": [],
      "source": [
        "#replace the value with its index the list\n",
        "# Create a mapping from brand to index\n",
        "#brand_to_index = {brand: index for index, brand in enumerate(sorted_brands)}\n",
        "# Replace brand names with their indices\n",
        "#train['brand'] = train['brand'].map(brand_to_index)\n",
        "#te['brand'] = te['brand'].map(brand_to_index)\n",
        "\n",
        "train['brand'] = train['brand'].apply(lambda x: 1 if x in top_29_brands else 0)\n",
        "te['brand'] = te['brand'].apply(lambda x: 1 if x in top_29_brands else 0)\n"
      ]
    },
    {
      "cell_type": "markdown",
      "metadata": {
        "id": "sAZQvSAlj8_7"
      },
      "source": [
        "MODEL YEAR HANDLING"
      ]
    },
    {
      "cell_type": "code",
      "execution_count": null,
      "metadata": {
        "id": "vsQ_hU0Jj8_7",
        "outputId": "8b4e3bc8-1b54-4346-d81e-d96acc736676"
      },
      "outputs": [
        {
          "data": {
            "image/png": "[encoded data removed]",
            "text/plain": [
              "<Figure size 1000x600 with 1 Axes>"
            ]
          },
          "metadata": {},
          "output_type": "display_data"
        },
        {
          "name": "stdout",
          "output_type": "stream",
          "text": [
            "[2023, 2024, 1974, 2022, 2021, 2020, 1994, 2019, 2018, 1995, 1993, 2017, 2016, 2015, 1992, 2005, 2014, 2013, 2009, 2002, 2008, 2010, 2012, 2007, 2004, 2001, 2006, 2011, 1996, 2003, 1997, 2000, 1998, 1999]\n",
            "34\n"
          ]
        }
      ],
      "source": [
        "#year\n",
        "# Group by 'model_year' and calculate the average price\n",
        "year_price = train.groupby('model_year')['price'].mean().sort_values(ascending=False)\n",
        "\n",
        "# Convert the result to a list of sorted years\n",
        "sorted_years = year_price.index.tolist()\n",
        "\n",
        "# Visualization: Bar chart of average price by model year\n",
        "plt.figure(figsize=(10, 6))\n",
        "year_price.plot(kind='bar', color='lightgreen')\n",
        "plt.title('Average Car Price by Model Year')\n",
        "plt.xlabel('Model Year')\n",
        "plt.ylabel('Average Price')\n",
        "plt.xticks(rotation=45)  # Rotate year labels for better readability\n",
        "plt.tight_layout()\n",
        "plt.show()\n",
        "\n",
        "# Print sorted years list\n",
        "print(sorted_years)\n",
        "print(len(sorted_years))"
      ]
    },
    {
      "cell_type": "code",
      "execution_count": null,
      "metadata": {
        "id": "rR_QnT3Uj8_7",
        "outputId": "8bd309eb-7273-4177-dbb9-8cd1ce715d8c"
      },
      "outputs": [
        {
          "data": {
            "text/plain": [
              "\"df['price'] = df['price'].replace({'\\\\$': '', ',': ''}, regex=True).astype(float)\\ndf['model_year'] = df['model_year'].astype(int)\""
            ]
          },
          "execution_count": 59,
          "metadata": {},
          "output_type": "execute_result"
        }
      ],
      "source": [
        "# Remove all non-numeric characters except periods and commas not needed\n",
        "#df['milage'] = df['milage'].replace(r'[^0-9.]', '', regex=True).astype(float)\n",
        "# Convert from string currency format to numerical\n",
        "\"\"\"df['price'] = df['price'].replace({'\\$': '', ',': ''}, regex=True).astype(float)\n",
        "df['model_year'] = df['model_year'].astype(int)\"\"\""
      ]
    },
    {
      "cell_type": "code",
      "execution_count": null,
      "metadata": {
        "id": "YNWuD-zIj8_7",
        "outputId": "dc586b68-2c48-4a81-d8f6-b4ac19ed288c"
      },
      "outputs": [
        {
          "name": "stdout",
          "output_type": "stream",
          "text": [
            "model_year :  [2007 2002 2017 2021 2018 2016 2020 2015 2011 2013 2023 2019 2012 2014\n",
            " 2008 2009 2022 2003 2005 2001 2006 2000 2010 2004 1997 1998 1999 1994\n",
            " 1993 1996 1995 2024 1974 1992]\n"
          ]
        }
      ],
      "source": [
        "#model_year :  34  can be labeled\n",
        "print(\"model_year : \" ,df['model_year'].unique())\n",
        "\n",
        "# Define the mapping for year batches\n",
        "year_mapping = {\n",
        "    (1996, 2000): 1,  # Older models\n",
        "    (2001, 2010): 2,  # Early 2000s models\n",
        "    (2011, 2014): 3,  # Mid-2000s models\n",
        "    (1990, 1995): 4,  # old but high\n",
        "    (2015, 2019): 4,  # Modern models\n",
        "    (2020, 2024): 5,  # Newest models\n",
        "    (1970, 1980): 5,  # Newest models\n",
        "}\n",
        "\n",
        "# Function to label encode the year\n",
        "def label_encode_year(year):\n",
        "    for year_range, label in year_mapping.items():\n",
        "        if year_range[0] <= year <= year_range[1]:\n",
        "            return label\n",
        "    return None  # Default if year is out of range\n",
        "\n",
        "# Apply the function to the 'model_year' column\n",
        "train['model_year'] = train['model_year'].apply(label_encode_year)\n",
        "te['model_year'] = te['model_year'].apply(label_encode_year)\n"
      ]
    },
    {
      "cell_type": "code",
      "execution_count": null,
      "metadata": {
        "id": "wKgz3h_fj8_7",
        "outputId": "d30ccb77-b0fa-40b7-8d37-dfc486c56bcb"
      },
      "outputs": [
        {
          "data": {
            "text/plain": [
              "0         2\n",
              "1         2\n",
              "2         2\n",
              "3         4\n",
              "4         5\n",
              "         ..\n",
              "188528    4\n",
              "188529    4\n",
              "188530    5\n",
              "188531    5\n",
              "188532    4\n",
              "Name: model_year, Length: 188533, dtype: int64"
            ]
          },
          "execution_count": 61,
          "metadata": {},
          "output_type": "execute_result"
        }
      ],
      "source": [
        "train['model_year']"
      ]
    },
    {
      "cell_type": "code",
      "execution_count": null,
      "metadata": {
        "id": "VTiqbJdxj8_7",
        "outputId": "9c07c7a6-0703-4b51-910c-b2fa91973ed8"
      },
      "outputs": [
        {
          "data": {
            "text/plain": [
              "'mode_acc = df[\\'accident\\'].mode()\\n\\nprint(mode_acc)\\ndf[\\'accident\\'].fillna(df[\\'accident\\'].mode()[0], inplace=True)\\nprint(\"brand : \" ,df[\\'brand\\'].unique())\\n\\n# Initialize the LabelEncoder\\nlabel_encoder = LabelEncoder()\\n\\n# Fit and transform the \\'accident\\' column\\ndf[\\'accident\\'] = label_encoder.fit_transform(df[\\'accident\\'])\\n#fuel_type :  7  has null\\n#brand :  57\\nprint(\"brand : \" ,df[\\'brand\\'].unique())\\nprint(\"model : \" ,df[\\'model\\'].unique())\\nprint(\"accident : \" ,df[\\'accident\\'].value_counts())'"
            ]
          },
          "execution_count": 58,
          "metadata": {},
          "output_type": "execute_result"
        }
      ],
      "source": [
        "\n",
        "#accident :  2  has null\n",
        "#first fill nan with mode done\n",
        "\"\"\"mode_acc = df['accident'].mode()\n",
        "\n",
        "print(mode_acc)\n",
        "df['accident'].fillna(df['accident'].mode()[0], inplace=True)\n",
        "print(\"brand : \" ,df['brand'].unique())\n",
        "\n",
        "# Initialize the LabelEncoder\n",
        "label_encoder = LabelEncoder()\n",
        "\n",
        "# Fit and transform the 'accident' column\n",
        "df['accident'] = label_encoder.fit_transform(df['accident'])\n",
        "#fuel_type :  7  has null\n",
        "#brand :  57\n",
        "print(\"brand : \" ,df['brand'].unique())\n",
        "print(\"model : \" ,df['model'].unique())\n",
        "print(\"accident : \" ,df['accident'].value_counts())\"\"\""
      ]
    },
    {
      "cell_type": "markdown",
      "metadata": {
        "id": "XyTMdg1Rj8_8"
      },
      "source": [
        "DROP DUPLICATES"
      ]
    },
    {
      "cell_type": "code",
      "execution_count": null,
      "metadata": {
        "id": "A1IWYOdYj8_8",
        "outputId": "9f41113c-03e5-4576-a174-d5a3b5710319"
      },
      "outputs": [
        {
          "name": "stdout",
          "output_type": "stream",
          "text": [
            "136\n",
            "0\n"
          ]
        }
      ],
      "source": [
        "#drop duplicates\n",
        "print(len(train[train.duplicated()]))\n",
        "train = train.drop_duplicates()\n",
        "print(train.duplicated().sum())\n"
      ]
    },
    {
      "cell_type": "code",
      "execution_count": null,
      "metadata": {
        "id": "vrcrJstpj8_8",
        "outputId": "73c2cd6b-fb27-4597-e3f3-4a41ec6ee187"
      },
      "outputs": [
        {
          "data": {
            "text/html": [
              "<div>\n",
              "<style scoped>\n",
              "    .dataframe tbody tr th:only-of-type {\n",
              "        vertical-align: middle;\n",
              "    }\n",
              "\n",
              "    .dataframe tbody tr th {\n",
              "        vertical-align: top;\n",
              "    }\n",
              "\n",
              "    .dataframe thead th {\n",
              "        text-align: right;\n",
              "    }\n",
              "</style>\n",
              "<table border=\"1\" class=\"dataframe\">\n",
              "  <thead>\n",
              "    <tr style=\"text-align: right;\">\n",
              "      <th></th>\n",
              "      <th>id</th>\n",
              "      <th>brand</th>\n",
              "      <th>model_year</th>\n",
              "      <th>milage</th>\n",
              "      <th>fuel_type</th>\n",
              "      <th>transmission</th>\n",
              "      <th>ext_col</th>\n",
              "      <th>int_col</th>\n",
              "      <th>accident</th>\n",
              "      <th>horsepower</th>\n",
              "      <th>engine_size</th>\n",
              "      <th>cylinders</th>\n",
              "      <th>Vehicle_Age</th>\n",
              "    </tr>\n",
              "  </thead>\n",
              "  <tbody>\n",
              "    <tr>\n",
              "      <th>0</th>\n",
              "      <td>188533</td>\n",
              "      <td>1</td>\n",
              "      <td>4.0</td>\n",
              "      <td>98000</td>\n",
              "      <td>3</td>\n",
              "      <td>1</td>\n",
              "      <td>4</td>\n",
              "      <td>1</td>\n",
              "      <td>0</td>\n",
              "      <td>240.000000</td>\n",
              "      <td>2.0</td>\n",
              "      <td>4.0</td>\n",
              "      <td>9</td>\n",
              "    </tr>\n",
              "    <tr>\n",
              "      <th>1</th>\n",
              "      <td>188534</td>\n",
              "      <td>1</td>\n",
              "      <td>5.0</td>\n",
              "      <td>9142</td>\n",
              "      <td>5</td>\n",
              "      <td>1</td>\n",
              "      <td>2</td>\n",
              "      <td>5</td>\n",
              "      <td>0</td>\n",
              "      <td>395.000000</td>\n",
              "      <td>3.0</td>\n",
              "      <td>6.0</td>\n",
              "      <td>4</td>\n",
              "    </tr>\n",
              "    <tr>\n",
              "      <th>2</th>\n",
              "      <td>188535</td>\n",
              "      <td>1</td>\n",
              "      <td>5.0</td>\n",
              "      <td>28121</td>\n",
              "      <td>3</td>\n",
              "      <td>1</td>\n",
              "      <td>4</td>\n",
              "      <td>12</td>\n",
              "      <td>0</td>\n",
              "      <td>343.263856</td>\n",
              "      <td>3.5</td>\n",
              "      <td>6.0</td>\n",
              "      <td>2</td>\n",
              "    </tr>\n",
              "    <tr>\n",
              "      <th>3</th>\n",
              "      <td>188536</td>\n",
              "      <td>1</td>\n",
              "      <td>4.0</td>\n",
              "      <td>61258</td>\n",
              "      <td>3</td>\n",
              "      <td>1</td>\n",
              "      <td>8</td>\n",
              "      <td>5</td>\n",
              "      <td>0</td>\n",
              "      <td>343.263856</td>\n",
              "      <td>2.0</td>\n",
              "      <td>6.0</td>\n",
              "      <td>8</td>\n",
              "    </tr>\n",
              "    <tr>\n",
              "      <th>4</th>\n",
              "      <td>188537</td>\n",
              "      <td>1</td>\n",
              "      <td>4.0</td>\n",
              "      <td>59000</td>\n",
              "      <td>3</td>\n",
              "      <td>1</td>\n",
              "      <td>10</td>\n",
              "      <td>5</td>\n",
              "      <td>0</td>\n",
              "      <td>252.000000</td>\n",
              "      <td>2.0</td>\n",
              "      <td>4.0</td>\n",
              "      <td>6</td>\n",
              "    </tr>\n",
              "    <tr>\n",
              "      <th>...</th>\n",
              "      <td>...</td>\n",
              "      <td>...</td>\n",
              "      <td>...</td>\n",
              "      <td>...</td>\n",
              "      <td>...</td>\n",
              "      <td>...</td>\n",
              "      <td>...</td>\n",
              "      <td>...</td>\n",
              "      <td>...</td>\n",
              "      <td>...</td>\n",
              "      <td>...</td>\n",
              "      <td>...</td>\n",
              "      <td>...</td>\n",
              "    </tr>\n",
              "    <tr>\n",
              "      <th>125685</th>\n",
              "      <td>314218</td>\n",
              "      <td>1</td>\n",
              "      <td>3.0</td>\n",
              "      <td>83315</td>\n",
              "      <td>3</td>\n",
              "      <td>1</td>\n",
              "      <td>9</td>\n",
              "      <td>5</td>\n",
              "      <td>0</td>\n",
              "      <td>362.000000</td>\n",
              "      <td>3.0</td>\n",
              "      <td>6.0</td>\n",
              "      <td>10</td>\n",
              "    </tr>\n",
              "    <tr>\n",
              "      <th>125686</th>\n",
              "      <td>314219</td>\n",
              "      <td>1</td>\n",
              "      <td>4.0</td>\n",
              "      <td>29336</td>\n",
              "      <td>3</td>\n",
              "      <td>1</td>\n",
              "      <td>4</td>\n",
              "      <td>5</td>\n",
              "      <td>0</td>\n",
              "      <td>343.263856</td>\n",
              "      <td>3.0</td>\n",
              "      <td>6.0</td>\n",
              "      <td>5</td>\n",
              "    </tr>\n",
              "    <tr>\n",
              "      <th>125687</th>\n",
              "      <td>314220</td>\n",
              "      <td>1</td>\n",
              "      <td>3.0</td>\n",
              "      <td>77634</td>\n",
              "      <td>3</td>\n",
              "      <td>1</td>\n",
              "      <td>9</td>\n",
              "      <td>5</td>\n",
              "      <td>0</td>\n",
              "      <td>333.000000</td>\n",
              "      <td>3.0</td>\n",
              "      <td>6.0</td>\n",
              "      <td>12</td>\n",
              "    </tr>\n",
              "    <tr>\n",
              "      <th>125688</th>\n",
              "      <td>314221</td>\n",
              "      <td>1</td>\n",
              "      <td>3.0</td>\n",
              "      <td>112000</td>\n",
              "      <td>3</td>\n",
              "      <td>1</td>\n",
              "      <td>9</td>\n",
              "      <td>5</td>\n",
              "      <td>0</td>\n",
              "      <td>333.000000</td>\n",
              "      <td>3.0</td>\n",
              "      <td>6.0</td>\n",
              "      <td>12</td>\n",
              "    </tr>\n",
              "    <tr>\n",
              "      <th>125689</th>\n",
              "      <td>314222</td>\n",
              "      <td>1</td>\n",
              "      <td>4.0</td>\n",
              "      <td>66840</td>\n",
              "      <td>3</td>\n",
              "      <td>1</td>\n",
              "      <td>2</td>\n",
              "      <td>5</td>\n",
              "      <td>0</td>\n",
              "      <td>355.000000</td>\n",
              "      <td>5.3</td>\n",
              "      <td>8.0</td>\n",
              "      <td>6</td>\n",
              "    </tr>\n",
              "  </tbody>\n",
              "</table>\n",
              "<p>125690 rows × 13 columns</p>\n",
              "</div>"
            ],
            "text/plain": [
              "            id  brand  model_year  milage  fuel_type  transmission  ext_col   \n",
              "0       188533      1         4.0   98000          3             1        4  \\\n",
              "1       188534      1         5.0    9142          5             1        2   \n",
              "2       188535      1         5.0   28121          3             1        4   \n",
              "3       188536      1         4.0   61258          3             1        8   \n",
              "4       188537      1         4.0   59000          3             1       10   \n",
              "...        ...    ...         ...     ...        ...           ...      ...   \n",
              "125685  314218      1         3.0   83315          3             1        9   \n",
              "125686  314219      1         4.0   29336          3             1        4   \n",
              "125687  314220      1         3.0   77634          3             1        9   \n",
              "125688  314221      1         3.0  112000          3             1        9   \n",
              "125689  314222      1         4.0   66840          3             1        2   \n",
              "\n",
              "        int_col  accident  horsepower  engine_size  cylinders  Vehicle_Age  \n",
              "0             1         0  240.000000          2.0        4.0            9  \n",
              "1             5         0  395.000000          3.0        6.0            4  \n",
              "2            12         0  343.263856          3.5        6.0            2  \n",
              "3             5         0  343.263856          2.0        6.0            8  \n",
              "4             5         0  252.000000          2.0        4.0            6  \n",
              "...         ...       ...         ...          ...        ...          ...  \n",
              "125685        5         0  362.000000          3.0        6.0           10  \n",
              "125686        5         0  343.263856          3.0        6.0            5  \n",
              "125687        5         0  333.000000          3.0        6.0           12  \n",
              "125688        5         0  333.000000          3.0        6.0           12  \n",
              "125689        5         0  355.000000          5.3        8.0            6  \n",
              "\n",
              "[125690 rows x 13 columns]"
            ]
          },
          "execution_count": 63,
          "metadata": {},
          "output_type": "execute_result"
        }
      ],
      "source": [
        "te"
      ]
    },
    {
      "cell_type": "markdown",
      "metadata": {
        "id": "eG4y6pThj8_8"
      },
      "source": [
        "SPLIT TRAIN DATA"
      ]
    },
    {
      "cell_type": "code",
      "execution_count": null,
      "metadata": {
        "id": "pxdi2WSjj8_8"
      },
      "outputs": [],
      "source": [
        "# Select the numerical columns to scale\n",
        "from sklearn.model_selection import train_test_split\n",
        "\n",
        "numeric_columns = ['brand', 'model_year', 'milage', 'fuel_type', 'transmission',\n",
        "                   'ext_col', 'int_col', 'accident', 'horsepower', 'engine_size', 'cylinders',\"Vehicle_Age\"]\n",
        "\n",
        "y_train1 = train['price']\n",
        "x_train1 = train[numeric_columns]\n",
        "X_train, X_test, y_train, y_test = train_test_split(x_train1, y_train1, test_size=0.2, random_state=8)\n"
      ]
    },
    {
      "cell_type": "markdown",
      "metadata": {
        "id": "PIOodGJ0j8_8"
      },
      "source": [
        "collrellation between features and target"
      ]
    },
    {
      "cell_type": "code",
      "execution_count": null,
      "metadata": {
        "id": "sldKCKcVj8_8",
        "outputId": "419f59aa-9618-431c-f1e8-b2f0dcef685f"
      },
      "outputs": [
        {
          "data": {
            "image/png": "[encoded data removed]",
            "text/plain": [
              "<Figure size 1000x600 with 2 Axes>"
            ]
          },
          "metadata": {},
          "output_type": "display_data"
        }
      ],
      "source": [
        "\n",
        "def plot_correlation(df, target):\n",
        "\n",
        "    df_numeric = df.select_dtypes(include=[int, float])\n",
        "\n",
        "    # Compute correlation matrix\n",
        "    corr = df_numeric.corr()\n",
        "\n",
        "    # Extract correlations with the target variable\n",
        "    target_corr = corr[['price']].sort_values(by='price', ascending=False)\n",
        "\n",
        "    # Create a heatmap of correlations\n",
        "    plt.figure(figsize=(10, 6))\n",
        "    sns.heatmap(target_corr, annot=True, cmap='coolwarm', vmin=-1, vmax=1)\n",
        "    plt.title(f'Correlation with {\"price\"}')\n",
        "    plt.show()\n",
        "\n",
        "# Example usage\n",
        "plot_correlation(train, 'price')\n"
      ]
    },
    {
      "cell_type": "markdown",
      "metadata": {
        "id": "uApItpznj8_8"
      },
      "source": [
        "SCALING"
      ]
    },
    {
      "cell_type": "code",
      "execution_count": null,
      "metadata": {
        "id": "Vr3mMXHkj8_8",
        "outputId": "17a5dbc9-d531-4dca-f15a-c8cf46201205"
      },
      "outputs": [
        {
          "data": {
            "text/html": [
              "<div>\n",
              "<style scoped>\n",
              "    .dataframe tbody tr th:only-of-type {\n",
              "        vertical-align: middle;\n",
              "    }\n",
              "\n",
              "    .dataframe tbody tr th {\n",
              "        vertical-align: top;\n",
              "    }\n",
              "\n",
              "    .dataframe thead th {\n",
              "        text-align: right;\n",
              "    }\n",
              "</style>\n",
              "<table border=\"1\" class=\"dataframe\">\n",
              "  <thead>\n",
              "    <tr style=\"text-align: right;\">\n",
              "      <th></th>\n",
              "      <th>count</th>\n",
              "      <th>mean</th>\n",
              "      <th>std</th>\n",
              "      <th>min</th>\n",
              "      <th>25%</th>\n",
              "      <th>50%</th>\n",
              "      <th>75%</th>\n",
              "      <th>max</th>\n",
              "    </tr>\n",
              "  </thead>\n",
              "  <tbody>\n",
              "    <tr>\n",
              "      <th>brand</th>\n",
              "      <td>188397.0</td>\n",
              "      <td>0.751190</td>\n",
              "      <td>0.432324</td>\n",
              "      <td>0.00</td>\n",
              "      <td>1.0</td>\n",
              "      <td>1.000000</td>\n",
              "      <td>1.0</td>\n",
              "      <td>1.0</td>\n",
              "    </tr>\n",
              "    <tr>\n",
              "      <th>model_year</th>\n",
              "      <td>188397.0</td>\n",
              "      <td>3.813299</td>\n",
              "      <td>1.075952</td>\n",
              "      <td>1.00</td>\n",
              "      <td>3.0</td>\n",
              "      <td>4.000000</td>\n",
              "      <td>5.0</td>\n",
              "      <td>5.0</td>\n",
              "    </tr>\n",
              "    <tr>\n",
              "      <th>milage</th>\n",
              "      <td>188397.0</td>\n",
              "      <td>65712.053642</td>\n",
              "      <td>49799.194516</td>\n",
              "      <td>100.00</td>\n",
              "      <td>24115.0</td>\n",
              "      <td>57785.000000</td>\n",
              "      <td>95400.0</td>\n",
              "      <td>405000.0</td>\n",
              "    </tr>\n",
              "    <tr>\n",
              "      <th>fuel_type</th>\n",
              "      <td>188397.0</td>\n",
              "      <td>3.113632</td>\n",
              "      <td>0.718690</td>\n",
              "      <td>0.00</td>\n",
              "      <td>3.0</td>\n",
              "      <td>3.000000</td>\n",
              "      <td>3.0</td>\n",
              "      <td>6.0</td>\n",
              "    </tr>\n",
              "    <tr>\n",
              "      <th>transmission</th>\n",
              "      <td>188397.0</td>\n",
              "      <td>0.797109</td>\n",
              "      <td>0.402153</td>\n",
              "      <td>0.00</td>\n",
              "      <td>1.0</td>\n",
              "      <td>1.000000</td>\n",
              "      <td>1.0</td>\n",
              "      <td>1.0</td>\n",
              "    </tr>\n",
              "    <tr>\n",
              "      <th>ext_col</th>\n",
              "      <td>188397.0</td>\n",
              "      <td>6.789922</td>\n",
              "      <td>3.022650</td>\n",
              "      <td>0.00</td>\n",
              "      <td>4.0</td>\n",
              "      <td>7.000000</td>\n",
              "      <td>9.0</td>\n",
              "      <td>15.0</td>\n",
              "    </tr>\n",
              "    <tr>\n",
              "      <th>int_col</th>\n",
              "      <td>188397.0</td>\n",
              "      <td>4.151377</td>\n",
              "      <td>2.460320</td>\n",
              "      <td>0.00</td>\n",
              "      <td>1.0</td>\n",
              "      <td>5.000000</td>\n",
              "      <td>5.0</td>\n",
              "      <td>14.0</td>\n",
              "    </tr>\n",
              "    <tr>\n",
              "      <th>accident</th>\n",
              "      <td>188397.0</td>\n",
              "      <td>0.221612</td>\n",
              "      <td>0.415332</td>\n",
              "      <td>0.00</td>\n",
              "      <td>0.0</td>\n",
              "      <td>0.000000</td>\n",
              "      <td>0.0</td>\n",
              "      <td>1.0</td>\n",
              "    </tr>\n",
              "    <tr>\n",
              "      <th>price</th>\n",
              "      <td>188397.0</td>\n",
              "      <td>43876.313556</td>\n",
              "      <td>78839.236823</td>\n",
              "      <td>2000.00</td>\n",
              "      <td>17000.0</td>\n",
              "      <td>30798.000000</td>\n",
              "      <td>49900.0</td>\n",
              "      <td>2954083.0</td>\n",
              "    </tr>\n",
              "    <tr>\n",
              "      <th>horsepower</th>\n",
              "      <td>188397.0</td>\n",
              "      <td>343.264187</td>\n",
              "      <td>104.140238</td>\n",
              "      <td>70.00</td>\n",
              "      <td>280.0</td>\n",
              "      <td>343.263856</td>\n",
              "      <td>395.0</td>\n",
              "      <td>1020.0</td>\n",
              "    </tr>\n",
              "    <tr>\n",
              "      <th>engine_size</th>\n",
              "      <td>188397.0</td>\n",
              "      <td>3.775434</td>\n",
              "      <td>1.328164</td>\n",
              "      <td>0.65</td>\n",
              "      <td>3.0</td>\n",
              "      <td>3.500000</td>\n",
              "      <td>4.7</td>\n",
              "      <td>8.4</td>\n",
              "    </tr>\n",
              "    <tr>\n",
              "      <th>cylinders</th>\n",
              "      <td>188397.0</td>\n",
              "      <td>6.299209</td>\n",
              "      <td>1.398087</td>\n",
              "      <td>3.00</td>\n",
              "      <td>6.0</td>\n",
              "      <td>6.000000</td>\n",
              "      <td>8.0</td>\n",
              "      <td>12.0</td>\n",
              "    </tr>\n",
              "    <tr>\n",
              "      <th>Vehicle_Age</th>\n",
              "      <td>188397.0</td>\n",
              "      <td>8.171653</td>\n",
              "      <td>5.661364</td>\n",
              "      <td>0.00</td>\n",
              "      <td>4.0</td>\n",
              "      <td>7.000000</td>\n",
              "      <td>11.0</td>\n",
              "      <td>50.0</td>\n",
              "    </tr>\n",
              "  </tbody>\n",
              "</table>\n",
              "</div>"
            ],
            "text/plain": [
              "                 count          mean           std      min      25%   \n",
              "brand         188397.0      0.751190      0.432324     0.00      1.0  \\\n",
              "model_year    188397.0      3.813299      1.075952     1.00      3.0   \n",
              "milage        188397.0  65712.053642  49799.194516   100.00  24115.0   \n",
              "fuel_type     188397.0      3.113632      0.718690     0.00      3.0   \n",
              "transmission  188397.0      0.797109      0.402153     0.00      1.0   \n",
              "ext_col       188397.0      6.789922      3.022650     0.00      4.0   \n",
              "int_col       188397.0      4.151377      2.460320     0.00      1.0   \n",
              "accident      188397.0      0.221612      0.415332     0.00      0.0   \n",
              "price         188397.0  43876.313556  78839.236823  2000.00  17000.0   \n",
              "horsepower    188397.0    343.264187    104.140238    70.00    280.0   \n",
              "engine_size   188397.0      3.775434      1.328164     0.65      3.0   \n",
              "cylinders     188397.0      6.299209      1.398087     3.00      6.0   \n",
              "Vehicle_Age   188397.0      8.171653      5.661364     0.00      4.0   \n",
              "\n",
              "                       50%      75%        max  \n",
              "brand             1.000000      1.0        1.0  \n",
              "model_year        4.000000      5.0        5.0  \n",
              "milage        57785.000000  95400.0   405000.0  \n",
              "fuel_type         3.000000      3.0        6.0  \n",
              "transmission      1.000000      1.0        1.0  \n",
              "ext_col           7.000000      9.0       15.0  \n",
              "int_col           5.000000      5.0       14.0  \n",
              "accident          0.000000      0.0        1.0  \n",
              "price         30798.000000  49900.0  2954083.0  \n",
              "horsepower      343.263856    395.0     1020.0  \n",
              "engine_size       3.500000      4.7        8.4  \n",
              "cylinders         6.000000      8.0       12.0  \n",
              "Vehicle_Age       7.000000     11.0       50.0  "
            ]
          },
          "execution_count": 66,
          "metadata": {},
          "output_type": "execute_result"
        }
      ],
      "source": [
        "train.describe().T"
      ]
    },
    {
      "cell_type": "code",
      "execution_count": null,
      "metadata": {
        "id": "ET7tjUX3j8_9",
        "outputId": "14aadd5a-6ee7-4a38-d1ca-903d52d2280d"
      },
      "outputs": [
        {
          "data": {
            "text/html": [
              "<div>\n",
              "<style scoped>\n",
              "    .dataframe tbody tr th:only-of-type {\n",
              "        vertical-align: middle;\n",
              "    }\n",
              "\n",
              "    .dataframe tbody tr th {\n",
              "        vertical-align: top;\n",
              "    }\n",
              "\n",
              "    .dataframe thead th {\n",
              "        text-align: right;\n",
              "    }\n",
              "</style>\n",
              "<table border=\"1\" class=\"dataframe\">\n",
              "  <thead>\n",
              "    <tr style=\"text-align: right;\">\n",
              "      <th></th>\n",
              "      <th>id</th>\n",
              "      <th>brand</th>\n",
              "      <th>model_year</th>\n",
              "      <th>milage</th>\n",
              "      <th>fuel_type</th>\n",
              "      <th>transmission</th>\n",
              "      <th>ext_col</th>\n",
              "      <th>int_col</th>\n",
              "      <th>accident</th>\n",
              "      <th>horsepower</th>\n",
              "      <th>engine_size</th>\n",
              "      <th>cylinders</th>\n",
              "      <th>Vehicle_Age</th>\n",
              "    </tr>\n",
              "  </thead>\n",
              "  <tbody>\n",
              "    <tr>\n",
              "      <th>0</th>\n",
              "      <td>188533</td>\n",
              "      <td>1</td>\n",
              "      <td>4.0</td>\n",
              "      <td>98000</td>\n",
              "      <td>3</td>\n",
              "      <td>1</td>\n",
              "      <td>4</td>\n",
              "      <td>1</td>\n",
              "      <td>0</td>\n",
              "      <td>240.000000</td>\n",
              "      <td>2.0</td>\n",
              "      <td>4.0</td>\n",
              "      <td>9</td>\n",
              "    </tr>\n",
              "    <tr>\n",
              "      <th>1</th>\n",
              "      <td>188534</td>\n",
              "      <td>1</td>\n",
              "      <td>5.0</td>\n",
              "      <td>9142</td>\n",
              "      <td>5</td>\n",
              "      <td>1</td>\n",
              "      <td>2</td>\n",
              "      <td>5</td>\n",
              "      <td>0</td>\n",
              "      <td>395.000000</td>\n",
              "      <td>3.0</td>\n",
              "      <td>6.0</td>\n",
              "      <td>4</td>\n",
              "    </tr>\n",
              "    <tr>\n",
              "      <th>2</th>\n",
              "      <td>188535</td>\n",
              "      <td>1</td>\n",
              "      <td>5.0</td>\n",
              "      <td>28121</td>\n",
              "      <td>3</td>\n",
              "      <td>1</td>\n",
              "      <td>4</td>\n",
              "      <td>12</td>\n",
              "      <td>0</td>\n",
              "      <td>343.263856</td>\n",
              "      <td>3.5</td>\n",
              "      <td>6.0</td>\n",
              "      <td>2</td>\n",
              "    </tr>\n",
              "    <tr>\n",
              "      <th>3</th>\n",
              "      <td>188536</td>\n",
              "      <td>1</td>\n",
              "      <td>4.0</td>\n",
              "      <td>61258</td>\n",
              "      <td>3</td>\n",
              "      <td>1</td>\n",
              "      <td>8</td>\n",
              "      <td>5</td>\n",
              "      <td>0</td>\n",
              "      <td>343.263856</td>\n",
              "      <td>2.0</td>\n",
              "      <td>6.0</td>\n",
              "      <td>8</td>\n",
              "    </tr>\n",
              "    <tr>\n",
              "      <th>4</th>\n",
              "      <td>188537</td>\n",
              "      <td>1</td>\n",
              "      <td>4.0</td>\n",
              "      <td>59000</td>\n",
              "      <td>3</td>\n",
              "      <td>1</td>\n",
              "      <td>10</td>\n",
              "      <td>5</td>\n",
              "      <td>0</td>\n",
              "      <td>252.000000</td>\n",
              "      <td>2.0</td>\n",
              "      <td>4.0</td>\n",
              "      <td>6</td>\n",
              "    </tr>\n",
              "    <tr>\n",
              "      <th>...</th>\n",
              "      <td>...</td>\n",
              "      <td>...</td>\n",
              "      <td>...</td>\n",
              "      <td>...</td>\n",
              "      <td>...</td>\n",
              "      <td>...</td>\n",
              "      <td>...</td>\n",
              "      <td>...</td>\n",
              "      <td>...</td>\n",
              "      <td>...</td>\n",
              "      <td>...</td>\n",
              "      <td>...</td>\n",
              "      <td>...</td>\n",
              "    </tr>\n",
              "    <tr>\n",
              "      <th>125685</th>\n",
              "      <td>314218</td>\n",
              "      <td>1</td>\n",
              "      <td>3.0</td>\n",
              "      <td>83315</td>\n",
              "      <td>3</td>\n",
              "      <td>1</td>\n",
              "      <td>9</td>\n",
              "      <td>5</td>\n",
              "      <td>0</td>\n",
              "      <td>362.000000</td>\n",
              "      <td>3.0</td>\n",
              "      <td>6.0</td>\n",
              "      <td>10</td>\n",
              "    </tr>\n",
              "    <tr>\n",
              "      <th>125686</th>\n",
              "      <td>314219</td>\n",
              "      <td>1</td>\n",
              "      <td>4.0</td>\n",
              "      <td>29336</td>\n",
              "      <td>3</td>\n",
              "      <td>1</td>\n",
              "      <td>4</td>\n",
              "      <td>5</td>\n",
              "      <td>0</td>\n",
              "      <td>343.263856</td>\n",
              "      <td>3.0</td>\n",
              "      <td>6.0</td>\n",
              "      <td>5</td>\n",
              "    </tr>\n",
              "    <tr>\n",
              "      <th>125687</th>\n",
              "      <td>314220</td>\n",
              "      <td>1</td>\n",
              "      <td>3.0</td>\n",
              "      <td>77634</td>\n",
              "      <td>3</td>\n",
              "      <td>1</td>\n",
              "      <td>9</td>\n",
              "      <td>5</td>\n",
              "      <td>0</td>\n",
              "      <td>333.000000</td>\n",
              "      <td>3.0</td>\n",
              "      <td>6.0</td>\n",
              "      <td>12</td>\n",
              "    </tr>\n",
              "    <tr>\n",
              "      <th>125688</th>\n",
              "      <td>314221</td>\n",
              "      <td>1</td>\n",
              "      <td>3.0</td>\n",
              "      <td>112000</td>\n",
              "      <td>3</td>\n",
              "      <td>1</td>\n",
              "      <td>9</td>\n",
              "      <td>5</td>\n",
              "      <td>0</td>\n",
              "      <td>333.000000</td>\n",
              "      <td>3.0</td>\n",
              "      <td>6.0</td>\n",
              "      <td>12</td>\n",
              "    </tr>\n",
              "    <tr>\n",
              "      <th>125689</th>\n",
              "      <td>314222</td>\n",
              "      <td>1</td>\n",
              "      <td>4.0</td>\n",
              "      <td>66840</td>\n",
              "      <td>3</td>\n",
              "      <td>1</td>\n",
              "      <td>2</td>\n",
              "      <td>5</td>\n",
              "      <td>0</td>\n",
              "      <td>355.000000</td>\n",
              "      <td>5.3</td>\n",
              "      <td>8.0</td>\n",
              "      <td>6</td>\n",
              "    </tr>\n",
              "  </tbody>\n",
              "</table>\n",
              "<p>125690 rows × 13 columns</p>\n",
              "</div>"
            ],
            "text/plain": [
              "            id  brand  model_year  milage  fuel_type  transmission  ext_col   \n",
              "0       188533      1         4.0   98000          3             1        4  \\\n",
              "1       188534      1         5.0    9142          5             1        2   \n",
              "2       188535      1         5.0   28121          3             1        4   \n",
              "3       188536      1         4.0   61258          3             1        8   \n",
              "4       188537      1         4.0   59000          3             1       10   \n",
              "...        ...    ...         ...     ...        ...           ...      ...   \n",
              "125685  314218      1         3.0   83315          3             1        9   \n",
              "125686  314219      1         4.0   29336          3             1        4   \n",
              "125687  314220      1         3.0   77634          3             1        9   \n",
              "125688  314221      1         3.0  112000          3             1        9   \n",
              "125689  314222      1         4.0   66840          3             1        2   \n",
              "\n",
              "        int_col  accident  horsepower  engine_size  cylinders  Vehicle_Age  \n",
              "0             1         0  240.000000          2.0        4.0            9  \n",
              "1             5         0  395.000000          3.0        6.0            4  \n",
              "2            12         0  343.263856          3.5        6.0            2  \n",
              "3             5         0  343.263856          2.0        6.0            8  \n",
              "4             5         0  252.000000          2.0        4.0            6  \n",
              "...         ...       ...         ...          ...        ...          ...  \n",
              "125685        5         0  362.000000          3.0        6.0           10  \n",
              "125686        5         0  343.263856          3.0        6.0            5  \n",
              "125687        5         0  333.000000          3.0        6.0           12  \n",
              "125688        5         0  333.000000          3.0        6.0           12  \n",
              "125689        5         0  355.000000          5.3        8.0            6  \n",
              "\n",
              "[125690 rows x 13 columns]"
            ]
          },
          "execution_count": 67,
          "metadata": {},
          "output_type": "execute_result"
        }
      ],
      "source": [
        "te"
      ]
    },
    {
      "cell_type": "code",
      "execution_count": null,
      "metadata": {
        "id": "pk_Snt7mj8_9"
      },
      "outputs": [],
      "source": [
        "from sklearn.preprocessing import StandardScaler\n",
        "\n",
        "numeric_columns = ['brand', 'milage', 'fuel_type','int_col', 'accident', 'horsepower', 'engine_size', 'cylinders',\"Vehicle_Age\"]\n",
        "\n",
        "\n",
        "numeric_test = [ 'milage','horsepower']\n",
        "\n",
        "\n",
        "# Initialize the scaler\n",
        "scaler = StandardScaler()\n",
        "te_s = te.copy()\n",
        "# Apply scaling\n",
        "train_scaled = X_train.copy()\n",
        "test_scaled = X_test.copy()\n",
        "\n",
        "train_scaled = train_scaled[numeric_columns]\n",
        "test_scaled  = test_scaled[numeric_columns]\n",
        "te_s  = te_s[numeric_columns]\n",
        "\n",
        "train_scaled[numeric_test] = scaler.fit_transform(X_train[numeric_test])\n",
        "test_scaled[numeric_test] = scaler.transform(X_test[numeric_test])\n",
        "te_s[numeric_test] = scaler.transform(te_s[numeric_test])\n",
        "\n"
      ]
    },
    {
      "cell_type": "code",
      "execution_count": null,
      "metadata": {
        "id": "WX4H8rK7j8_9",
        "outputId": "3f03da75-2df8-4e09-a3e1-701646f4304a"
      },
      "outputs": [
        {
          "data": {
            "text/html": [
              "<div>\n",
              "<style scoped>\n",
              "    .dataframe tbody tr th:only-of-type {\n",
              "        vertical-align: middle;\n",
              "    }\n",
              "\n",
              "    .dataframe tbody tr th {\n",
              "        vertical-align: top;\n",
              "    }\n",
              "\n",
              "    .dataframe thead th {\n",
              "        text-align: right;\n",
              "    }\n",
              "</style>\n",
              "<table border=\"1\" class=\"dataframe\">\n",
              "  <thead>\n",
              "    <tr style=\"text-align: right;\">\n",
              "      <th></th>\n",
              "      <th>brand</th>\n",
              "      <th>milage</th>\n",
              "      <th>fuel_type</th>\n",
              "      <th>int_col</th>\n",
              "      <th>accident</th>\n",
              "      <th>horsepower</th>\n",
              "      <th>engine_size</th>\n",
              "      <th>cylinders</th>\n",
              "      <th>Vehicle_Age</th>\n",
              "    </tr>\n",
              "  </thead>\n",
              "  <tbody>\n",
              "    <tr>\n",
              "      <th>138699</th>\n",
              "      <td>1</td>\n",
              "      <td>-0.585283</td>\n",
              "      <td>3</td>\n",
              "      <td>5</td>\n",
              "      <td>0</td>\n",
              "      <td>-0.001478</td>\n",
              "      <td>5.3</td>\n",
              "      <td>6.0</td>\n",
              "      <td>2</td>\n",
              "    </tr>\n",
              "    <tr>\n",
              "      <th>71509</th>\n",
              "      <td>1</td>\n",
              "      <td>-0.516135</td>\n",
              "      <td>3</td>\n",
              "      <td>5</td>\n",
              "      <td>0</td>\n",
              "      <td>0.830289</td>\n",
              "      <td>6.2</td>\n",
              "      <td>8.0</td>\n",
              "      <td>17</td>\n",
              "    </tr>\n",
              "    <tr>\n",
              "      <th>44232</th>\n",
              "      <td>0</td>\n",
              "      <td>-0.178181</td>\n",
              "      <td>3</td>\n",
              "      <td>0</td>\n",
              "      <td>0</td>\n",
              "      <td>-0.704050</td>\n",
              "      <td>4.0</td>\n",
              "      <td>6.0</td>\n",
              "      <td>14</td>\n",
              "    </tr>\n",
              "    <tr>\n",
              "      <th>142206</th>\n",
              "      <td>1</td>\n",
              "      <td>-0.867395</td>\n",
              "      <td>3</td>\n",
              "      <td>5</td>\n",
              "      <td>0</td>\n",
              "      <td>-0.128673</td>\n",
              "      <td>3.4</td>\n",
              "      <td>6.0</td>\n",
              "      <td>9</td>\n",
              "    </tr>\n",
              "    <tr>\n",
              "      <th>103465</th>\n",
              "      <td>1</td>\n",
              "      <td>-1.118517</td>\n",
              "      <td>3</td>\n",
              "      <td>5</td>\n",
              "      <td>0</td>\n",
              "      <td>0.964543</td>\n",
              "      <td>5.0</td>\n",
              "      <td>8.0</td>\n",
              "      <td>4</td>\n",
              "    </tr>\n",
              "    <tr>\n",
              "      <th>...</th>\n",
              "      <td>...</td>\n",
              "      <td>...</td>\n",
              "      <td>...</td>\n",
              "      <td>...</td>\n",
              "      <td>...</td>\n",
              "      <td>...</td>\n",
              "      <td>...</td>\n",
              "      <td>...</td>\n",
              "      <td>...</td>\n",
              "    </tr>\n",
              "    <tr>\n",
              "      <th>141506</th>\n",
              "      <td>1</td>\n",
              "      <td>-0.275270</td>\n",
              "      <td>3</td>\n",
              "      <td>0</td>\n",
              "      <td>0</td>\n",
              "      <td>0.657675</td>\n",
              "      <td>5.0</td>\n",
              "      <td>8.0</td>\n",
              "      <td>16</td>\n",
              "    </tr>\n",
              "    <tr>\n",
              "      <th>62442</th>\n",
              "      <td>1</td>\n",
              "      <td>0.595857</td>\n",
              "      <td>3</td>\n",
              "      <td>5</td>\n",
              "      <td>0</td>\n",
              "      <td>2.661905</td>\n",
              "      <td>6.0</td>\n",
              "      <td>12.0</td>\n",
              "      <td>9</td>\n",
              "    </tr>\n",
              "    <tr>\n",
              "      <th>149561</th>\n",
              "      <td>1</td>\n",
              "      <td>-0.265234</td>\n",
              "      <td>3</td>\n",
              "      <td>5</td>\n",
              "      <td>0</td>\n",
              "      <td>-0.080725</td>\n",
              "      <td>3.0</td>\n",
              "      <td>6.0</td>\n",
              "      <td>5</td>\n",
              "    </tr>\n",
              "    <tr>\n",
              "      <th>25944</th>\n",
              "      <td>1</td>\n",
              "      <td>1.039450</td>\n",
              "      <td>3</td>\n",
              "      <td>0</td>\n",
              "      <td>0</td>\n",
              "      <td>-0.704050</td>\n",
              "      <td>3.5</td>\n",
              "      <td>6.0</td>\n",
              "      <td>14</td>\n",
              "    </tr>\n",
              "    <tr>\n",
              "      <th>70100</th>\n",
              "      <td>1</td>\n",
              "      <td>1.382722</td>\n",
              "      <td>3</td>\n",
              "      <td>5</td>\n",
              "      <td>1</td>\n",
              "      <td>-0.684871</td>\n",
              "      <td>3.5</td>\n",
              "      <td>6.0</td>\n",
              "      <td>10</td>\n",
              "    </tr>\n",
              "  </tbody>\n",
              "</table>\n",
              "<p>150717 rows × 9 columns</p>\n",
              "</div>"
            ],
            "text/plain": [
              "        brand    milage  fuel_type  int_col  accident  horsepower   \n",
              "138699      1 -0.585283          3        5         0   -0.001478  \\\n",
              "71509       1 -0.516135          3        5         0    0.830289   \n",
              "44232       0 -0.178181          3        0         0   -0.704050   \n",
              "142206      1 -0.867395          3        5         0   -0.128673   \n",
              "103465      1 -1.118517          3        5         0    0.964543   \n",
              "...       ...       ...        ...      ...       ...         ...   \n",
              "141506      1 -0.275270          3        0         0    0.657675   \n",
              "62442       1  0.595857          3        5         0    2.661905   \n",
              "149561      1 -0.265234          3        5         0   -0.080725   \n",
              "25944       1  1.039450          3        0         0   -0.704050   \n",
              "70100       1  1.382722          3        5         1   -0.684871   \n",
              "\n",
              "        engine_size  cylinders  Vehicle_Age  \n",
              "138699          5.3        6.0            2  \n",
              "71509           6.2        8.0           17  \n",
              "44232           4.0        6.0           14  \n",
              "142206          3.4        6.0            9  \n",
              "103465          5.0        8.0            4  \n",
              "...             ...        ...          ...  \n",
              "141506          5.0        8.0           16  \n",
              "62442           6.0       12.0            9  \n",
              "149561          3.0        6.0            5  \n",
              "25944           3.5        6.0           14  \n",
              "70100           3.5        6.0           10  \n",
              "\n",
              "[150717 rows x 9 columns]"
            ]
          },
          "execution_count": 84,
          "metadata": {},
          "output_type": "execute_result"
        }
      ],
      "source": [
        "train_scaled"
      ]
    },
    {
      "cell_type": "code",
      "execution_count": null,
      "metadata": {
        "id": "NOU-81NCj8_9",
        "outputId": "7d6126ad-0e54-4596-d4af-552d8cb1089f"
      },
      "outputs": [
        {
          "data": {
            "text/html": [
              "<div>\n",
              "<style scoped>\n",
              "    .dataframe tbody tr th:only-of-type {\n",
              "        vertical-align: middle;\n",
              "    }\n",
              "\n",
              "    .dataframe tbody tr th {\n",
              "        vertical-align: top;\n",
              "    }\n",
              "\n",
              "    .dataframe thead th {\n",
              "        text-align: right;\n",
              "    }\n",
              "</style>\n",
              "<table border=\"1\" class=\"dataframe\">\n",
              "  <thead>\n",
              "    <tr style=\"text-align: right;\">\n",
              "      <th></th>\n",
              "      <th>brand</th>\n",
              "      <th>milage</th>\n",
              "      <th>fuel_type</th>\n",
              "      <th>int_col</th>\n",
              "      <th>accident</th>\n",
              "      <th>horsepower</th>\n",
              "      <th>engine_size</th>\n",
              "      <th>cylinders</th>\n",
              "      <th>Vehicle_Age</th>\n",
              "    </tr>\n",
              "  </thead>\n",
              "  <tbody>\n",
              "    <tr>\n",
              "      <th>187758</th>\n",
              "      <td>0</td>\n",
              "      <td>0.607900</td>\n",
              "      <td>3</td>\n",
              "      <td>5</td>\n",
              "      <td>1</td>\n",
              "      <td>-0.368413</td>\n",
              "      <td>2.5</td>\n",
              "      <td>4.0</td>\n",
              "      <td>8</td>\n",
              "    </tr>\n",
              "    <tr>\n",
              "      <th>149752</th>\n",
              "      <td>0</td>\n",
              "      <td>-0.164874</td>\n",
              "      <td>3</td>\n",
              "      <td>5</td>\n",
              "      <td>0</td>\n",
              "      <td>-1.663011</td>\n",
              "      <td>1.8</td>\n",
              "      <td>4.0</td>\n",
              "      <td>5</td>\n",
              "    </tr>\n",
              "    <tr>\n",
              "      <th>134444</th>\n",
              "      <td>1</td>\n",
              "      <td>-0.215054</td>\n",
              "      <td>3</td>\n",
              "      <td>5</td>\n",
              "      <td>0</td>\n",
              "      <td>-0.032777</td>\n",
              "      <td>3.0</td>\n",
              "      <td>6.0</td>\n",
              "      <td>7</td>\n",
              "    </tr>\n",
              "    <tr>\n",
              "      <th>120762</th>\n",
              "      <td>1</td>\n",
              "      <td>-0.013952</td>\n",
              "      <td>3</td>\n",
              "      <td>6</td>\n",
              "      <td>0</td>\n",
              "      <td>-0.608154</td>\n",
              "      <td>3.0</td>\n",
              "      <td>6.0</td>\n",
              "      <td>8</td>\n",
              "    </tr>\n",
              "    <tr>\n",
              "      <th>47820</th>\n",
              "      <td>1</td>\n",
              "      <td>0.607900</td>\n",
              "      <td>3</td>\n",
              "      <td>5</td>\n",
              "      <td>1</td>\n",
              "      <td>-0.320465</td>\n",
              "      <td>3.0</td>\n",
              "      <td>6.0</td>\n",
              "      <td>11</td>\n",
              "    </tr>\n",
              "    <tr>\n",
              "      <th>...</th>\n",
              "      <td>...</td>\n",
              "      <td>...</td>\n",
              "      <td>...</td>\n",
              "      <td>...</td>\n",
              "      <td>...</td>\n",
              "      <td>...</td>\n",
              "      <td>...</td>\n",
              "      <td>...</td>\n",
              "      <td>...</td>\n",
              "    </tr>\n",
              "    <tr>\n",
              "      <th>159660</th>\n",
              "      <td>1</td>\n",
              "      <td>-1.211872</td>\n",
              "      <td>3</td>\n",
              "      <td>5</td>\n",
              "      <td>0</td>\n",
              "      <td>-0.032777</td>\n",
              "      <td>3.0</td>\n",
              "      <td>6.0</td>\n",
              "      <td>1</td>\n",
              "    </tr>\n",
              "    <tr>\n",
              "      <th>125601</th>\n",
              "      <td>0</td>\n",
              "      <td>2.093232</td>\n",
              "      <td>3</td>\n",
              "      <td>0</td>\n",
              "      <td>1</td>\n",
              "      <td>0.446704</td>\n",
              "      <td>5.7</td>\n",
              "      <td>8.0</td>\n",
              "      <td>13</td>\n",
              "    </tr>\n",
              "    <tr>\n",
              "      <th>90597</th>\n",
              "      <td>1</td>\n",
              "      <td>0.070070</td>\n",
              "      <td>4</td>\n",
              "      <td>7</td>\n",
              "      <td>0</td>\n",
              "      <td>-0.001478</td>\n",
              "      <td>6.7</td>\n",
              "      <td>6.0</td>\n",
              "      <td>4</td>\n",
              "    </tr>\n",
              "    <tr>\n",
              "      <th>134343</th>\n",
              "      <td>1</td>\n",
              "      <td>-0.656639</td>\n",
              "      <td>3</td>\n",
              "      <td>5</td>\n",
              "      <td>0</td>\n",
              "      <td>-0.001478</td>\n",
              "      <td>3.5</td>\n",
              "      <td>6.0</td>\n",
              "      <td>3</td>\n",
              "    </tr>\n",
              "    <tr>\n",
              "      <th>28135</th>\n",
              "      <td>1</td>\n",
              "      <td>0.694451</td>\n",
              "      <td>3</td>\n",
              "      <td>2</td>\n",
              "      <td>1</td>\n",
              "      <td>-0.001478</td>\n",
              "      <td>1.6</td>\n",
              "      <td>6.0</td>\n",
              "      <td>3</td>\n",
              "    </tr>\n",
              "  </tbody>\n",
              "</table>\n",
              "<p>37680 rows × 9 columns</p>\n",
              "</div>"
            ],
            "text/plain": [
              "        brand    milage  fuel_type  int_col  accident  horsepower   \n",
              "187758      0  0.607900          3        5         1   -0.368413  \\\n",
              "149752      0 -0.164874          3        5         0   -1.663011   \n",
              "134444      1 -0.215054          3        5         0   -0.032777   \n",
              "120762      1 -0.013952          3        6         0   -0.608154   \n",
              "47820       1  0.607900          3        5         1   -0.320465   \n",
              "...       ...       ...        ...      ...       ...         ...   \n",
              "159660      1 -1.211872          3        5         0   -0.032777   \n",
              "125601      0  2.093232          3        0         1    0.446704   \n",
              "90597       1  0.070070          4        7         0   -0.001478   \n",
              "134343      1 -0.656639          3        5         0   -0.001478   \n",
              "28135       1  0.694451          3        2         1   -0.001478   \n",
              "\n",
              "        engine_size  cylinders  Vehicle_Age  \n",
              "187758          2.5        4.0            8  \n",
              "149752          1.8        4.0            5  \n",
              "134444          3.0        6.0            7  \n",
              "120762          3.0        6.0            8  \n",
              "47820           3.0        6.0           11  \n",
              "...             ...        ...          ...  \n",
              "159660          3.0        6.0            1  \n",
              "125601          5.7        8.0           13  \n",
              "90597           6.7        6.0            4  \n",
              "134343          3.5        6.0            3  \n",
              "28135           1.6        6.0            3  \n",
              "\n",
              "[37680 rows x 9 columns]"
            ]
          },
          "execution_count": 85,
          "metadata": {},
          "output_type": "execute_result"
        }
      ],
      "source": [
        "test_scaled"
      ]
    },
    {
      "cell_type": "code",
      "execution_count": null,
      "metadata": {
        "id": "HY4oa7p2j8_9",
        "outputId": "2e0518c6-2db1-43b2-8417-3bae56e671d1"
      },
      "outputs": [
        {
          "name": "stdout",
          "output_type": "stream",
          "text": [
            "              milage     horsepower\n",
            "count  150717.000000  150717.000000\n",
            "mean        0.162050       0.287808\n",
            "std         0.123044       0.109768\n",
            "min         0.000000       0.000000\n",
            "25%         0.059311       0.221053\n",
            "50%         0.142504       0.287646\n",
            "75%         0.235367       0.342105\n",
            "max         1.000000       1.000000\n",
            "             milage    horsepower\n",
            "count  37680.000000  37680.000000\n",
            "mean       0.162025      0.286999\n",
            "std        0.122780      0.109031\n",
            "min        0.000000      0.006316\n",
            "25%        0.059553      0.221053\n",
            "50%        0.141721      0.287646\n",
            "75%        0.235431      0.342105\n",
            "max        1.000000      1.000000\n"
          ]
        }
      ],
      "source": [
        "from sklearn.preprocessing import MinMaxScaler\n",
        "\n",
        "# Initialize the scaler\n",
        "min_max_scaler = MinMaxScaler()\n",
        "\n",
        "# Apply scaling\n",
        "train_minmax_scaled = X_train.copy()\n",
        "test_minmax_scaled = X_test.copy()\n",
        "te_smin = te.copy()\n",
        "\n",
        "\n",
        "train_minmax_scaled = train_minmax_scaled[numeric_columns]\n",
        "test_minmax_scaled  = test_minmax_scaled[numeric_columns]\n",
        "te_smin  = te_smin[numeric_columns]\n",
        "\n",
        "train_minmax_scaled[numeric_test] = min_max_scaler.fit_transform(X_train[numeric_test])\n",
        "test_minmax_scaled[numeric_test] = min_max_scaler.transform(X_test[numeric_test])\n",
        "te_smin[numeric_test] = min_max_scaler.transform(te_smin[numeric_test])\n",
        "\n",
        "# Check the transformed data\n",
        "print(train_minmax_scaled[numeric_test].describe())\n",
        "print(test_minmax_scaled[numeric_test].describe())"
      ]
    },
    {
      "cell_type": "code",
      "execution_count": null,
      "metadata": {
        "id": "zaLcLaibj8_9",
        "outputId": "53392b99-b6dd-4b85-fc44-70776bf92fe2"
      },
      "outputs": [
        {
          "data": {
            "text/plain": [
              "187758    18500\n",
              "149752    28500\n",
              "134444    29000\n",
              "120762    38500\n",
              "47820     15000\n",
              "          ...  \n",
              "159660    67900\n",
              "125601    10500\n",
              "90597     35670\n",
              "134343    69790\n",
              "28135     18749\n",
              "Name: price, Length: 37680, dtype: int64"
            ]
          },
          "execution_count": 87,
          "metadata": {},
          "output_type": "execute_result"
        }
      ],
      "source": [
        "y_test"
      ]
    },
    {
      "cell_type": "code",
      "execution_count": null,
      "metadata": {
        "id": "HnWlaEPrj8_9",
        "outputId": "4e27e985-9b7c-42dc-fdd8-53fbc1bbacac"
      },
      "outputs": [
        {
          "data": {
            "text/plain": [
              "array([[-0.10925111],\n",
              "       [-0.34474849],\n",
              "       [-0.40513896],\n",
              "       ...,\n",
              "       [-0.13063569],\n",
              "       [ 0.02712964],\n",
              "       [-0.21444494]])"
            ]
          },
          "execution_count": 94,
          "metadata": {},
          "output_type": "execute_result"
        }
      ],
      "source": [
        "# Initialize the StandardScaler\n",
        "y_scaler = StandardScaler()\n",
        "\n",
        "# Reshape the target variable if it's a single feature\n",
        "y_train_reshaped = y_train.values.reshape(-1, 1)\n",
        "y_test_reshaped = y_test.values.reshape(-1, 1)\n",
        "\n",
        "# Fit and transform the target variable\n",
        "y_train_scaled = y_scaler.fit_transform(y_train_reshaped)\n",
        "y_test_scaled = y_scaler.transform(y_test_reshaped)\n",
        "\n",
        "y_train_scaled"
      ]
    },
    {
      "cell_type": "code",
      "execution_count": null,
      "metadata": {
        "id": "ylip4bYzj8_-",
        "outputId": "859ecce6-75e7-4366-a533-c49f74ba029e"
      },
      "outputs": [
        {
          "data": {
            "text/plain": [
              "array([[ 34999.],\n",
              "       [ 14950.],\n",
              "       [ 35000.],\n",
              "       ...,\n",
              "       [128000.],\n",
              "       [ 26000.],\n",
              "       [ 29995.]])"
            ]
          },
          "execution_count": 95,
          "metadata": {},
          "output_type": "execute_result"
        }
      ],
      "source": [
        "y_train_original = y_scaler.inverse_transform(y_test_scaled)\n",
        "y_train_original"
      ]
    },
    {
      "cell_type": "code",
      "execution_count": null,
      "metadata": {
        "id": "y-Tngj9Yj8_-"
      },
      "outputs": [],
      "source": [
        "import xgboost as xgb\n",
        "from lightgbm import LGBMRegressor"
      ]
    },
    {
      "cell_type": "code",
      "execution_count": null,
      "metadata": {
        "id": "QV-HME7hj8_-",
        "outputId": "3e5dd7c8-c6cf-408f-c377-31c7254e9e77"
      },
      "outputs": [
        {
          "data": {
            "text/html": [
              "<style>#sk-container-id-4 {color: black;background-color: white;}#sk-container-id-4 pre{padding: 0;}#sk-container-id-4 div.sk-toggleable {background-color: white;}#sk-container-id-4 label.sk-toggleable__label {cursor: pointer;display: block;width: 100%;margin-bottom: 0;padding: 0.3em;box-sizing: border-box;text-align: center;}#sk-container-id-4 label.sk-toggleable__label-arrow:before {content: \"▸\";float: left;margin-right: 0.25em;color: #696969;}#sk-container-id-4 label.sk-toggleable__label-arrow:hover:before {color: black;}#sk-container-id-4 div.sk-estimator:hover label.sk-toggleable__label-arrow:before {color: black;}#sk-container-id-4 div.sk-toggleable__content {max-height: 0;max-width: 0;overflow: hidden;text-align: left;background-color: #f0f8ff;}#sk-container-id-4 div.sk-toggleable__content pre {margin: 0.2em;color: black;border-radius: 0.25em;background-color: #f0f8ff;}#sk-container-id-4 input.sk-toggleable__control:checked~div.sk-toggleable__content {max-height: 200px;max-width: 100%;overflow: auto;}#sk-container-id-4 input.sk-toggleable__control:checked~label.sk-toggleable__label-arrow:before {content: \"▾\";}#sk-container-id-4 div.sk-estimator input.sk-toggleable__control:checked~label.sk-toggleable__label {background-color: #d4ebff;}#sk-container-id-4 div.sk-label input.sk-toggleable__control:checked~label.sk-toggleable__label {background-color: #d4ebff;}#sk-container-id-4 input.sk-hidden--visually {border: 0;clip: rect(1px 1px 1px 1px);clip: rect(1px, 1px, 1px, 1px);height: 1px;margin: -1px;overflow: hidden;padding: 0;position: absolute;width: 1px;}#sk-container-id-4 div.sk-estimator {font-family: monospace;background-color: #f0f8ff;border: 1px dotted black;border-radius: 0.25em;box-sizing: border-box;margin-bottom: 0.5em;}#sk-container-id-4 div.sk-estimator:hover {background-color: #d4ebff;}#sk-container-id-4 div.sk-parallel-item::after {content: \"\";width: 100%;border-bottom: 1px solid gray;flex-grow: 1;}#sk-container-id-4 div.sk-label:hover label.sk-toggleable__label {background-color: #d4ebff;}#sk-container-id-4 div.sk-serial::before {content: \"\";position: absolute;border-left: 1px solid gray;box-sizing: border-box;top: 0;bottom: 0;left: 50%;z-index: 0;}#sk-container-id-4 div.sk-serial {display: flex;flex-direction: column;align-items: center;background-color: white;padding-right: 0.2em;padding-left: 0.2em;position: relative;}#sk-container-id-4 div.sk-item {position: relative;z-index: 1;}#sk-container-id-4 div.sk-parallel {display: flex;align-items: stretch;justify-content: center;background-color: white;position: relative;}#sk-container-id-4 div.sk-item::before, #sk-container-id-4 div.sk-parallel-item::before {content: \"\";position: absolute;border-left: 1px solid gray;box-sizing: border-box;top: 0;bottom: 0;left: 50%;z-index: -1;}#sk-container-id-4 div.sk-parallel-item {display: flex;flex-direction: column;z-index: 1;position: relative;background-color: white;}#sk-container-id-4 div.sk-parallel-item:first-child::after {align-self: flex-end;width: 50%;}#sk-container-id-4 div.sk-parallel-item:last-child::after {align-self: flex-start;width: 50%;}#sk-container-id-4 div.sk-parallel-item:only-child::after {width: 0;}#sk-container-id-4 div.sk-dashed-wrapped {border: 1px dashed gray;margin: 0 0.4em 0.5em 0.4em;box-sizing: border-box;padding-bottom: 0.4em;background-color: white;}#sk-container-id-4 div.sk-label label {font-family: monospace;font-weight: bold;display: inline-block;line-height: 1.2em;}#sk-container-id-4 div.sk-label-container {text-align: center;}#sk-container-id-4 div.sk-container {/* jupyter's `normalize.less` sets `[hidden] { display: none; }` but bootstrap.min.css set `[hidden] { display: none !important; }` so we also need the `!important` here to be able to override the default hidden behavior on the sphinx rendered scikit-learn.org. See: https://github.com/scikit-learn/scikit-learn/issues/21755 */display: inline-block !important;position: relative;}#sk-container-id-4 div.sk-text-repr-fallback {display: none;}</style><div id=\"sk-container-id-4\" class=\"sk-top-container\"><div class=\"sk-text-repr-fallback\"><pre>LGBMRegressor(colsample_bytree=0.44346036599709887,\n",
              "              learning_rate=0.017521301504983752, max_depth=42,\n",
              "              n_estimators=1000, num_leaves=131, random_state=42,\n",
              "              reg_alpha=0.06876635751774487, reg_lambda=9.738899198284985,\n",
              "              subsample=0.2683765421728044)</pre><b>In a Jupyter environment, please rerun this cell to show the HTML representation or trust the notebook. <br />On GitHub, the HTML representation is unable to render, please try loading this page with nbviewer.org.</b></div><div class=\"sk-container\" hidden><div class=\"sk-item\"><div class=\"sk-estimator sk-toggleable\"><input class=\"sk-toggleable__control sk-hidden--visually\" id=\"sk-estimator-id-4\" type=\"checkbox\" checked><label for=\"sk-estimator-id-4\" class=\"sk-toggleable__label sk-toggleable__label-arrow\">LGBMRegressor</label><div class=\"sk-toggleable__content\"><pre>LGBMRegressor(colsample_bytree=0.44346036599709887,\n",
              "              learning_rate=0.017521301504983752, max_depth=42,\n",
              "              n_estimators=1000, num_leaves=131, random_state=42,\n",
              "              reg_alpha=0.06876635751774487, reg_lambda=9.738899198284985,\n",
              "              subsample=0.2683765421728044)</pre></div></div></div></div></div>"
            ],
            "text/plain": [
              "LGBMRegressor(colsample_bytree=0.44346036599709887,\n",
              "              learning_rate=0.017521301504983752, max_depth=42,\n",
              "              n_estimators=1000, num_leaves=131, random_state=42,\n",
              "              reg_alpha=0.06876635751774487, reg_lambda=9.738899198284985,\n",
              "              subsample=0.2683765421728044)"
            ]
          },
          "execution_count": 89,
          "metadata": {},
          "output_type": "execute_result"
        }
      ],
      "source": [
        "lgb_params = {\n",
        "    'learning_rate': 0.017521301504983752,\n",
        "    'max_depth': 42,\n",
        "    'reg_alpha': 0.06876635751774487,\n",
        "    'reg_lambda': 9.738899198284985,\n",
        "    'num_leaves': 131,\n",
        "    'subsample': 0.2683765421728044,\n",
        "    'colsample_bytree': 0.44346036599709887,\n",
        "    'n_estimators': 1000,\n",
        "    'random_state': 42\n",
        "}\n",
        "\n",
        "model_1 = LGBMRegressor(**lgb_params)\n",
        "model_1.fit(train_minmax_scaled, y_train)"
      ]
    },
    {
      "cell_type": "code",
      "execution_count": null,
      "metadata": {
        "id": "Ax62Fj_sj8_-",
        "outputId": "66760644-cce0-4f7e-dd6c-82624cd05b5f"
      },
      "outputs": [
        {
          "data": {
            "text/html": [
              "<style>#sk-container-id-5 {color: black;background-color: white;}#sk-container-id-5 pre{padding: 0;}#sk-container-id-5 div.sk-toggleable {background-color: white;}#sk-container-id-5 label.sk-toggleable__label {cursor: pointer;display: block;width: 100%;margin-bottom: 0;padding: 0.3em;box-sizing: border-box;text-align: center;}#sk-container-id-5 label.sk-toggleable__label-arrow:before {content: \"▸\";float: left;margin-right: 0.25em;color: #696969;}#sk-container-id-5 label.sk-toggleable__label-arrow:hover:before {color: black;}#sk-container-id-5 div.sk-estimator:hover label.sk-toggleable__label-arrow:before {color: black;}#sk-container-id-5 div.sk-toggleable__content {max-height: 0;max-width: 0;overflow: hidden;text-align: left;background-color: #f0f8ff;}#sk-container-id-5 div.sk-toggleable__content pre {margin: 0.2em;color: black;border-radius: 0.25em;background-color: #f0f8ff;}#sk-container-id-5 input.sk-toggleable__control:checked~div.sk-toggleable__content {max-height: 200px;max-width: 100%;overflow: auto;}#sk-container-id-5 input.sk-toggleable__control:checked~label.sk-toggleable__label-arrow:before {content: \"▾\";}#sk-container-id-5 div.sk-estimator input.sk-toggleable__control:checked~label.sk-toggleable__label {background-color: #d4ebff;}#sk-container-id-5 div.sk-label input.sk-toggleable__control:checked~label.sk-toggleable__label {background-color: #d4ebff;}#sk-container-id-5 input.sk-hidden--visually {border: 0;clip: rect(1px 1px 1px 1px);clip: rect(1px, 1px, 1px, 1px);height: 1px;margin: -1px;overflow: hidden;padding: 0;position: absolute;width: 1px;}#sk-container-id-5 div.sk-estimator {font-family: monospace;background-color: #f0f8ff;border: 1px dotted black;border-radius: 0.25em;box-sizing: border-box;margin-bottom: 0.5em;}#sk-container-id-5 div.sk-estimator:hover {background-color: #d4ebff;}#sk-container-id-5 div.sk-parallel-item::after {content: \"\";width: 100%;border-bottom: 1px solid gray;flex-grow: 1;}#sk-container-id-5 div.sk-label:hover label.sk-toggleable__label {background-color: #d4ebff;}#sk-container-id-5 div.sk-serial::before {content: \"\";position: absolute;border-left: 1px solid gray;box-sizing: border-box;top: 0;bottom: 0;left: 50%;z-index: 0;}#sk-container-id-5 div.sk-serial {display: flex;flex-direction: column;align-items: center;background-color: white;padding-right: 0.2em;padding-left: 0.2em;position: relative;}#sk-container-id-5 div.sk-item {position: relative;z-index: 1;}#sk-container-id-5 div.sk-parallel {display: flex;align-items: stretch;justify-content: center;background-color: white;position: relative;}#sk-container-id-5 div.sk-item::before, #sk-container-id-5 div.sk-parallel-item::before {content: \"\";position: absolute;border-left: 1px solid gray;box-sizing: border-box;top: 0;bottom: 0;left: 50%;z-index: -1;}#sk-container-id-5 div.sk-parallel-item {display: flex;flex-direction: column;z-index: 1;position: relative;background-color: white;}#sk-container-id-5 div.sk-parallel-item:first-child::after {align-self: flex-end;width: 50%;}#sk-container-id-5 div.sk-parallel-item:last-child::after {align-self: flex-start;width: 50%;}#sk-container-id-5 div.sk-parallel-item:only-child::after {width: 0;}#sk-container-id-5 div.sk-dashed-wrapped {border: 1px dashed gray;margin: 0 0.4em 0.5em 0.4em;box-sizing: border-box;padding-bottom: 0.4em;background-color: white;}#sk-container-id-5 div.sk-label label {font-family: monospace;font-weight: bold;display: inline-block;line-height: 1.2em;}#sk-container-id-5 div.sk-label-container {text-align: center;}#sk-container-id-5 div.sk-container {/* jupyter's `normalize.less` sets `[hidden] { display: none; }` but bootstrap.min.css set `[hidden] { display: none !important; }` so we also need the `!important` here to be able to override the default hidden behavior on the sphinx rendered scikit-learn.org. See: https://github.com/scikit-learn/scikit-learn/issues/21755 */display: inline-block !important;position: relative;}#sk-container-id-5 div.sk-text-repr-fallback {display: none;}</style><div id=\"sk-container-id-5\" class=\"sk-top-container\"><div class=\"sk-text-repr-fallback\"><pre>XGBRegressor(base_score=None, booster=None, callbacks=None,\n",
              "             colsample_bylevel=None, colsample_bynode=None,\n",
              "             colsample_bytree=0.5, early_stopping_rounds=None,\n",
              "             enable_categorical=False, eval_metric=&#x27;rmse&#x27;, feature_types=None,\n",
              "             gamma=None, gpu_id=None, grow_policy=None, importance_type=None,\n",
              "             interaction_constraints=None, learning_rate=0.05, max_bin=None,\n",
              "             max_cat_threshold=None, max_cat_to_onehot=None,\n",
              "             max_delta_step=None, max_depth=5, max_leaves=None,\n",
              "             min_child_weight=None, missing=nan, monotone_constraints=None,\n",
              "             n_estimators=200, n_jobs=None, num_parallel_tree=None,\n",
              "             predictor=None, random_state=None, ...)</pre><b>In a Jupyter environment, please rerun this cell to show the HTML representation or trust the notebook. <br />On GitHub, the HTML representation is unable to render, please try loading this page with nbviewer.org.</b></div><div class=\"sk-container\" hidden><div class=\"sk-item\"><div class=\"sk-estimator sk-toggleable\"><input class=\"sk-toggleable__control sk-hidden--visually\" id=\"sk-estimator-id-5\" type=\"checkbox\" checked><label for=\"sk-estimator-id-5\" class=\"sk-toggleable__label sk-toggleable__label-arrow\">XGBRegressor</label><div class=\"sk-toggleable__content\"><pre>XGBRegressor(base_score=None, booster=None, callbacks=None,\n",
              "             colsample_bylevel=None, colsample_bynode=None,\n",
              "             colsample_bytree=0.5, early_stopping_rounds=None,\n",
              "             enable_categorical=False, eval_metric=&#x27;rmse&#x27;, feature_types=None,\n",
              "             gamma=None, gpu_id=None, grow_policy=None, importance_type=None,\n",
              "             interaction_constraints=None, learning_rate=0.05, max_bin=None,\n",
              "             max_cat_threshold=None, max_cat_to_onehot=None,\n",
              "             max_delta_step=None, max_depth=5, max_leaves=None,\n",
              "             min_child_weight=None, missing=nan, monotone_constraints=None,\n",
              "             n_estimators=200, n_jobs=None, num_parallel_tree=None,\n",
              "             predictor=None, random_state=None, ...)</pre></div></div></div></div></div>"
            ],
            "text/plain": [
              "XGBRegressor(base_score=None, booster=None, callbacks=None,\n",
              "             colsample_bylevel=None, colsample_bynode=None,\n",
              "             colsample_bytree=0.5, early_stopping_rounds=None,\n",
              "             enable_categorical=False, eval_metric='rmse', feature_types=None,\n",
              "             gamma=None, gpu_id=None, grow_policy=None, importance_type=None,\n",
              "             interaction_constraints=None, learning_rate=0.05, max_bin=None,\n",
              "             max_cat_threshold=None, max_cat_to_onehot=None,\n",
              "             max_delta_step=None, max_depth=5, max_leaves=None,\n",
              "             min_child_weight=None, missing=nan, monotone_constraints=None,\n",
              "             n_estimators=200, n_jobs=None, num_parallel_tree=None,\n",
              "             predictor=None, random_state=None, ...)"
            ]
          },
          "execution_count": 90,
          "metadata": {},
          "output_type": "execute_result"
        }
      ],
      "source": [
        "xgb_params = {\n",
        "    'learning_rate': 0.05,\n",
        "    'max_depth': 5,\n",
        "    'subsample': 0.8,\n",
        "    'colsample_bytree': 0.5,\n",
        "    'objective': 'reg:squarederror',\n",
        "    'eval_metric': 'rmse',\n",
        "    'n_estimators': 200,\n",
        "    'seed': 42\n",
        "}\n",
        "model_2 = xgb.XGBRegressor(**xgb_params)\n",
        "model_2.fit(train_minmax_scaled, y_train)"
      ]
    },
    {
      "cell_type": "code",
      "execution_count": null,
      "metadata": {
        "id": "dQz25Npdj8_-",
        "outputId": "6b0f709f-1ef8-4acd-8a5e-29882e427126"
      },
      "outputs": [
        {
          "data": {
            "text/html": [
              "<style>#sk-container-id-6 {color: black;background-color: white;}#sk-container-id-6 pre{padding: 0;}#sk-container-id-6 div.sk-toggleable {background-color: white;}#sk-container-id-6 label.sk-toggleable__label {cursor: pointer;display: block;width: 100%;margin-bottom: 0;padding: 0.3em;box-sizing: border-box;text-align: center;}#sk-container-id-6 label.sk-toggleable__label-arrow:before {content: \"▸\";float: left;margin-right: 0.25em;color: #696969;}#sk-container-id-6 label.sk-toggleable__label-arrow:hover:before {color: black;}#sk-container-id-6 div.sk-estimator:hover label.sk-toggleable__label-arrow:before {color: black;}#sk-container-id-6 div.sk-toggleable__content {max-height: 0;max-width: 0;overflow: hidden;text-align: left;background-color: #f0f8ff;}#sk-container-id-6 div.sk-toggleable__content pre {margin: 0.2em;color: black;border-radius: 0.25em;background-color: #f0f8ff;}#sk-container-id-6 input.sk-toggleable__control:checked~div.sk-toggleable__content {max-height: 200px;max-width: 100%;overflow: auto;}#sk-container-id-6 input.sk-toggleable__control:checked~label.sk-toggleable__label-arrow:before {content: \"▾\";}#sk-container-id-6 div.sk-estimator input.sk-toggleable__control:checked~label.sk-toggleable__label {background-color: #d4ebff;}#sk-container-id-6 div.sk-label input.sk-toggleable__control:checked~label.sk-toggleable__label {background-color: #d4ebff;}#sk-container-id-6 input.sk-hidden--visually {border: 0;clip: rect(1px 1px 1px 1px);clip: rect(1px, 1px, 1px, 1px);height: 1px;margin: -1px;overflow: hidden;padding: 0;position: absolute;width: 1px;}#sk-container-id-6 div.sk-estimator {font-family: monospace;background-color: #f0f8ff;border: 1px dotted black;border-radius: 0.25em;box-sizing: border-box;margin-bottom: 0.5em;}#sk-container-id-6 div.sk-estimator:hover {background-color: #d4ebff;}#sk-container-id-6 div.sk-parallel-item::after {content: \"\";width: 100%;border-bottom: 1px solid gray;flex-grow: 1;}#sk-container-id-6 div.sk-label:hover label.sk-toggleable__label {background-color: #d4ebff;}#sk-container-id-6 div.sk-serial::before {content: \"\";position: absolute;border-left: 1px solid gray;box-sizing: border-box;top: 0;bottom: 0;left: 50%;z-index: 0;}#sk-container-id-6 div.sk-serial {display: flex;flex-direction: column;align-items: center;background-color: white;padding-right: 0.2em;padding-left: 0.2em;position: relative;}#sk-container-id-6 div.sk-item {position: relative;z-index: 1;}#sk-container-id-6 div.sk-parallel {display: flex;align-items: stretch;justify-content: center;background-color: white;position: relative;}#sk-container-id-6 div.sk-item::before, #sk-container-id-6 div.sk-parallel-item::before {content: \"\";position: absolute;border-left: 1px solid gray;box-sizing: border-box;top: 0;bottom: 0;left: 50%;z-index: -1;}#sk-container-id-6 div.sk-parallel-item {display: flex;flex-direction: column;z-index: 1;position: relative;background-color: white;}#sk-container-id-6 div.sk-parallel-item:first-child::after {align-self: flex-end;width: 50%;}#sk-container-id-6 div.sk-parallel-item:last-child::after {align-self: flex-start;width: 50%;}#sk-container-id-6 div.sk-parallel-item:only-child::after {width: 0;}#sk-container-id-6 div.sk-dashed-wrapped {border: 1px dashed gray;margin: 0 0.4em 0.5em 0.4em;box-sizing: border-box;padding-bottom: 0.4em;background-color: white;}#sk-container-id-6 div.sk-label label {font-family: monospace;font-weight: bold;display: inline-block;line-height: 1.2em;}#sk-container-id-6 div.sk-label-container {text-align: center;}#sk-container-id-6 div.sk-container {/* jupyter's `normalize.less` sets `[hidden] { display: none; }` but bootstrap.min.css set `[hidden] { display: none !important; }` so we also need the `!important` here to be able to override the default hidden behavior on the sphinx rendered scikit-learn.org. See: https://github.com/scikit-learn/scikit-learn/issues/21755 */display: inline-block !important;position: relative;}#sk-container-id-6 div.sk-text-repr-fallback {display: none;}</style><div id=\"sk-container-id-6\" class=\"sk-top-container\"><div class=\"sk-text-repr-fallback\"><pre>XGBRegressor(base_score=None, booster=None, callbacks=None,\n",
              "             colsample_bylevel=None, colsample_bynode=None,\n",
              "             colsample_bytree=0.49938653455911297, early_stopping_rounds=None,\n",
              "             enable_categorical=False, eval_metric=None, feature_types=None,\n",
              "             gamma=None, gpu_id=None, grow_policy=None, importance_type=None,\n",
              "             interaction_constraints=None, learning_rate=0.01763, max_bin=2249,\n",
              "             max_cat_threshold=None, max_cat_to_onehot=None,\n",
              "             max_delta_step=None, max_depth=None, max_leaves=None,\n",
              "             min_child_weight=None, missing=nan, monotone_constraints=None,\n",
              "             n_estimators=5000, n_jobs=-1, num_parallel_tree=None,\n",
              "             predictor=None, random_state=42, ...)</pre><b>In a Jupyter environment, please rerun this cell to show the HTML representation or trust the notebook. <br />On GitHub, the HTML representation is unable to render, please try loading this page with nbviewer.org.</b></div><div class=\"sk-container\" hidden><div class=\"sk-item\"><div class=\"sk-estimator sk-toggleable\"><input class=\"sk-toggleable__control sk-hidden--visually\" id=\"sk-estimator-id-6\" type=\"checkbox\" checked><label for=\"sk-estimator-id-6\" class=\"sk-toggleable__label sk-toggleable__label-arrow\">XGBRegressor</label><div class=\"sk-toggleable__content\"><pre>XGBRegressor(base_score=None, booster=None, callbacks=None,\n",
              "             colsample_bylevel=None, colsample_bynode=None,\n",
              "             colsample_bytree=0.49938653455911297, early_stopping_rounds=None,\n",
              "             enable_categorical=False, eval_metric=None, feature_types=None,\n",
              "             gamma=None, gpu_id=None, grow_policy=None, importance_type=None,\n",
              "             interaction_constraints=None, learning_rate=0.01763, max_bin=2249,\n",
              "             max_cat_threshold=None, max_cat_to_onehot=None,\n",
              "             max_delta_step=None, max_depth=None, max_leaves=None,\n",
              "             min_child_weight=None, missing=nan, monotone_constraints=None,\n",
              "             n_estimators=5000, n_jobs=-1, num_parallel_tree=None,\n",
              "             predictor=None, random_state=42, ...)</pre></div></div></div></div></div>"
            ],
            "text/plain": [
              "XGBRegressor(base_score=None, booster=None, callbacks=None,\n",
              "             colsample_bylevel=None, colsample_bynode=None,\n",
              "             colsample_bytree=0.49938653455911297, early_stopping_rounds=None,\n",
              "             enable_categorical=False, eval_metric=None, feature_types=None,\n",
              "             gamma=None, gpu_id=None, grow_policy=None, importance_type=None,\n",
              "             interaction_constraints=None, learning_rate=0.01763, max_bin=2249,\n",
              "             max_cat_threshold=None, max_cat_to_onehot=None,\n",
              "             max_delta_step=None, max_depth=None, max_leaves=None,\n",
              "             min_child_weight=None, missing=nan, monotone_constraints=None,\n",
              "             n_estimators=5000, n_jobs=-1, num_parallel_tree=None,\n",
              "             predictor=None, random_state=42, ...)"
            ]
          },
          "execution_count": 91,
          "metadata": {},
          "output_type": "execute_result"
        }
      ],
      "source": [
        "xgb_params_3 = {\n",
        "    'colsample_bytree': 0.49938653455911297,\n",
        "    'learning_rate': 0.01763,\n",
        "    'max_bin': 2249,\n",
        "    'n_estimators': 5000,\n",
        "    'n_jobs': -1,\n",
        "    'random_state': 42,\n",
        "    'reg_alpha': 0.416272935775317,\n",
        "    'reg_lambda': 86.59005784540076,\n",
        "    'subsample': 0.7495711298182588,\n",
        "}\n",
        "\n",
        "model_3 = xgb.XGBRegressor(**xgb_params_3)\n",
        "model_3.fit(train_minmax_scaled, y_train)"
      ]
    },
    {
      "cell_type": "code",
      "execution_count": null,
      "metadata": {
        "id": "Il4XfW4cj8_-",
        "outputId": "fb8a9e9d-df68-4723-8c54-b0f2197d2e80"
      },
      "outputs": [
        {
          "data": {
            "text/plain": [
              "array([20805.82009004, 27149.58026495, 34995.64535748, ...,\n",
              "       83925.55832188, 53697.45778756, 28366.69285822])"
            ]
          },
          "execution_count": 92,
          "metadata": {},
          "output_type": "execute_result"
        }
      ],
      "source": [
        "predictions1 = model_1.predict(test_minmax_scaled)\n",
        "predictions1"
      ]
    },
    {
      "cell_type": "code",
      "execution_count": null,
      "metadata": {
        "id": "VWj1dbfSj8_-",
        "outputId": "02129976-dc68-4ad2-87cc-593de2dcf156"
      },
      "outputs": [
        {
          "data": {
            "text/plain": [
              "array([18923.74 , 27153.555, 36402.12 , ..., 71082.37 , 56297.766,\n",
              "       28761.71 ], dtype=float32)"
            ]
          },
          "execution_count": 93,
          "metadata": {},
          "output_type": "execute_result"
        }
      ],
      "source": [
        "predictions2 = model_2.predict(test_minmax_scaled)\n",
        "predictions2"
      ]
    },
    {
      "cell_type": "code",
      "execution_count": null,
      "metadata": {
        "id": "psnyh_3Dj8_-",
        "outputId": "0ea5957f-4645-44e1-f44f-22d428acbcbe"
      },
      "outputs": [
        {
          "data": {
            "text/plain": [
              "array([20419.648, 27193.926, 35964.984, ..., 55027.934, 54208.594,\n",
              "       25101.959], dtype=float32)"
            ]
          },
          "execution_count": 94,
          "metadata": {},
          "output_type": "execute_result"
        }
      ],
      "source": [
        "predictions3 = model_3.predict(test_minmax_scaled)\n",
        "predictions3"
      ]
    },
    {
      "cell_type": "code",
      "execution_count": null,
      "metadata": {
        "id": "QyhvVjy7j8__"
      },
      "outputs": [],
      "source": [
        "y_pred_lgb = model_1.predict(test_minmax_scaled)\n",
        "y_pred_xgb = model_2.predict(test_minmax_scaled)\n",
        "y_pred_cat = model_3.predict(test_minmax_scaled)"
      ]
    },
    {
      "cell_type": "code",
      "execution_count": null,
      "metadata": {
        "id": "wV5WrriRj8__",
        "outputId": "e8bfbf0d-27fb-481f-98cf-ced04e533a05"
      },
      "outputs": [
        {
          "name": "stdout",
          "output_type": "stream",
          "text": [
            "Metrics for LGBMRegressor:\n",
            "Mean Squared Error: 5833142837.540685\n",
            "Mean Absolute Error: 19998.42455051527\n",
            "Root Mean Squared Error: 76375.0144847167\n",
            "R-squared: 0.12495570528878963\n",
            "\n",
            "Metrics for XGBRegressor:\n",
            "Mean Squared Error: 5787436279.044315\n",
            "Mean Absolute Error: 19753.04597534698\n",
            "Root Mean Squared Error: 76075.20147225582\n",
            "R-squared: 0.1318122600410121\n",
            "\n",
            "Metrics for XGBRegressor with xgb_params_3:\n",
            "Mean Squared Error: 5802600209.578278\n",
            "Mean Absolute Error: 19881.501361576007\n",
            "Root Mean Squared Error: 76174.8003579811\n",
            "R-squared: 0.12953748102930274\n",
            "\n"
          ]
        }
      ],
      "source": [
        "#validation\n",
        "from sklearn.metrics import mean_squared_error, mean_absolute_error, r2_score\n",
        "\n",
        "\n",
        "# Calculate evaluation metrics for each model on the test set\n",
        "models = [model_1, model_2, model_3]\n",
        "predictions = [y_pred_lgb, y_pred_xgb, y_pred_cat]\n",
        "model_names = ['LGBMRegressor', 'XGBRegressor', 'XGBRegressor with xgb_params_3']\n",
        "\n",
        "for model, y_pred, name in zip(models, predictions, model_names):\n",
        "    mse = mean_squared_error(y_test, y_pred)\n",
        "    mae = mean_absolute_error(y_test, y_pred)\n",
        "    rmse = np.sqrt(mse)\n",
        "    r2 = r2_score(y_test, y_pred)\n",
        "\n",
        "    print(f\"Metrics for {name}:\")\n",
        "    print(f\"Mean Squared Error: {mse}\")\n",
        "    print(f\"Mean Absolute Error: {mae}\")\n",
        "    print(f\"Root Mean Squared Error: {rmse}\")\n",
        "    print(f\"R-squared: {r2}\")\n",
        "    print(\"\")"
      ]
    },
    {
      "cell_type": "code",
      "execution_count": null,
      "metadata": {
        "id": "nCkr14PZj8__"
      },
      "outputs": [],
      "source": [
        "ids = te['id']\n"
      ]
    },
    {
      "cell_type": "code",
      "execution_count": null,
      "metadata": {
        "id": "3nV7LCn4j8__"
      },
      "outputs": [],
      "source": [
        "y_pred_lgbt = model_1.predict(te_s)\n",
        "y_pred_xgbt = model_2.predict(te_s)\n",
        "y_pred_catt = model_3.predict(te_s)"
      ]
    },
    {
      "cell_type": "code",
      "execution_count": null,
      "metadata": {
        "id": "wW5d9Ud7j8__",
        "outputId": "b0661641-ef40-4098-f2a1-46ff0bc4d5fc"
      },
      "outputs": [
        {
          "data": {
            "text/plain": [
              "array([11983.004, 86854.37 , 43493.473, ..., 11961.338,  8377.976,\n",
              "       26389.1  ], dtype=float32)"
            ]
          },
          "execution_count": 132,
          "metadata": {},
          "output_type": "execute_result"
        }
      ],
      "source": [
        "y_pred_catt"
      ]
    },
    {
      "cell_type": "code",
      "execution_count": null,
      "metadata": {
        "id": "WLnjQ_cNj8__",
        "outputId": "c1dbc948-c36c-4689-f8f0-4e28bb8fd764"
      },
      "outputs": [
        {
          "name": "stdout",
          "output_type": "stream",
          "text": [
            "Metrics for test:\n",
            "Metrics for LGBMRegressor:\n",
            "Mean Squared Error: [19829.00868588 98482.35298947 51252.30622441 ... 22263.96539091\n",
            " 17286.94368253 30935.59208004]\n",
            "\n",
            "Metrics for test:\n",
            "Metrics for XGBRegressor:\n",
            "Mean Squared Error: [19015.89  77543.77  51879.625 ... 26766.592 20812.932 34821.777]\n",
            "\n",
            "Metrics for test:\n",
            "Metrics for XGBRegressor with xgb_params_3:\n",
            "Mean Squared Error: [19599.238 84741.7   53931.426 ... 23670.576 18404.832 33351.684]\n",
            "\n"
          ]
        }
      ],
      "source": [
        "#test\n",
        "tpredictions = [y_pred_lgbt, y_pred_xgbt, y_pred_catt]\n",
        "\n",
        "for model, y_pred, name in zip(models, tpredictions, model_names):\n",
        "\n",
        "    print(f\"Metrics for test:\")\n",
        "    print(f\"Metrics for {name}:\")\n",
        "    print(f\"Mean Squared Error: {y_pred}\")\n",
        "    print(\"\")"
      ]
    },
    {
      "cell_type": "code",
      "execution_count": null,
      "metadata": {
        "id": "tW7dE31Gj8__"
      },
      "outputs": [],
      "source": [
        "y_tpred_lgb = model_1.predict(train_minmax_scaled)\n",
        "y_tpred_xgb = model_2.predict(train_minmax_scaled)\n",
        "y_tpred_cat = model_3.predict(train_minmax_scaled)"
      ]
    },
    {
      "cell_type": "code",
      "execution_count": null,
      "metadata": {
        "id": "CBnly2LKj8__",
        "outputId": "e70240e6-7aea-4aa5-f1ab-7b8e41db6d0c"
      },
      "outputs": [
        {
          "name": "stdout",
          "output_type": "stream",
          "text": [
            "Metrics for LGBMRegressor:\n",
            "Mean Squared Error: 4431779027.77582\n",
            "Mean Absolute Error: 18758.813036869436\n",
            "Root Mean Squared Error: 66571.60827091246\n",
            "R-squared: 0.2738311621289319\n",
            "\n",
            "Metrics for XGBRegressor:\n",
            "Mean Squared Error: 4918880590.513743\n",
            "Mean Absolute Error: 19401.21207257888\n",
            "Root Mean Squared Error: 70134.73169916417\n",
            "R-squared: 0.19401717015828535\n",
            "\n",
            "Metrics for XGBRegressor with xgb_params_3:\n",
            "Mean Squared Error: 4672949056.749462\n",
            "Mean Absolute Error: 18912.25678562047\n",
            "Root Mean Squared Error: 68358.97202817975\n",
            "R-squared: 0.23431426415827328\n",
            "\n"
          ]
        }
      ],
      "source": [
        "\n",
        "# Calculate evaluation metrics for each model on the test set\n",
        "models = [model_1, model_2, model_3]\n",
        "predictions = [y_tpred_lgb, y_tpred_xgb, y_tpred_cat]\n",
        "model_names = ['LGBMRegressor', 'XGBRegressor', 'XGBRegressor with xgb_params_3']\n",
        "\n",
        "for model, y_pred, name in zip(models, predictions, model_names):\n",
        "    mse = mean_squared_error(y_train, y_pred)\n",
        "    mae = mean_absolute_error(y_train, y_pred)\n",
        "    rmse = np.sqrt(mse)\n",
        "    r2 = r2_score(y_train, y_pred)\n",
        "\n",
        "    print(f\"Metrics for {name}:\")\n",
        "    print(f\"Mean Squared Error: {mse}\")\n",
        "    print(f\"Mean Absolute Error: {mae}\")\n",
        "    print(f\"Root Mean Squared Error: {rmse}\")\n",
        "    print(f\"R-squared: {r2}\")\n",
        "    print(\"\")"
      ]
    },
    {
      "cell_type": "code",
      "execution_count": null,
      "metadata": {
        "id": "TeCqDdzUj9AA",
        "outputId": "25e30c25-9cd1-47f4-a763-b3042c11440a"
      },
      "outputs": [
        {
          "name": "stdout",
          "output_type": "stream",
          "text": [
            "Training Ridge...\n",
            "Ridge Best Params: {'alpha': 10.0}\n",
            "Ridge MSE: 6080103882.0117, RMSE: 77975.0209, MAE: 23298.2520, R^2: 0.0879\n",
            "\n",
            "Training Lasso...\n",
            "Lasso Best Params: {'alpha': 0.5}\n",
            "Lasso MSE: 6080103097.3012, RMSE: 77975.0159, MAE: 23298.3092, R^2: 0.0879\n",
            "\n",
            "Training ElasticNet...\n",
            "ElasticNet Best Params: {'l1_ratio': 0.9, 'alpha': 0.1}\n",
            "ElasticNet MSE: 6080527836.2950, RMSE: 77977.7394, MAE: 23253.4585, R^2: 0.0878\n",
            "\n",
            "Training DecisionTreeRegressor...\n",
            "DecisionTreeRegressor Best Params: {'min_samples_split': 20, 'max_depth': 5}\n",
            "DecisionTreeRegressor MSE: 5888174373.5181, RMSE: 76734.4406, MAE: 20734.8195, R^2: 0.1167\n",
            "\n",
            "Training XGBRegressor...\n",
            "XGBRegressor Best Params: {'subsample': 1.0, 'n_estimators': 500, 'max_depth': 3, 'learning_rate': 0.05, 'colsample_bytree': 0.8}\n",
            "XGBRegressor MSE: 5778038991.7892, RMSE: 76013.4132, MAE: 19859.3502, R^2: 0.1332\n",
            "\n",
            "Training LGBMRegressor...\n",
            "LGBMRegressor Best Params: {'num_leaves': 31, 'n_estimators': 500, 'max_depth': None, 'learning_rate': 0.01}\n",
            "LGBMRegressor MSE: 5789278309.4191, RMSE: 76087.3072, MAE: 19732.8721, R^2: 0.1315\n",
            "\n",
            "Training AdaBoostRegressor...\n",
            "AdaBoostRegressor Best Params: {'n_estimators': 200, 'learning_rate': 1.0}\n",
            "AdaBoostRegressor MSE: 5996742010.0916, RMSE: 77438.6338, MAE: 21804.9168, R^2: 0.1004\n",
            "\n",
            "Training SVR...\n"
          ]
        },
        {
          "ename": "KeyboardInterrupt",
          "evalue": "",
          "output_type": "error",
          "traceback": [
            "\u001b[1;31m---------------------------------------------------------------------------\u001b[0m",
            "\u001b[1;31mKeyboardInterrupt\u001b[0m                         Traceback (most recent call last)",
            "Cell \u001b[1;32mIn[102], line 57\u001b[0m\n\u001b[0;32m     53\u001b[0m \u001b[38;5;66;03m# Use RandomizedSearchCV for faster search\u001b[39;00m\n\u001b[0;32m     54\u001b[0m search \u001b[38;5;241m=\u001b[39m RandomizedSearchCV(estimator\u001b[38;5;241m=\u001b[39mmodel, param_distributions\u001b[38;5;241m=\u001b[39mparam_grid[name], \n\u001b[0;32m     55\u001b[0m                             n_iter\u001b[38;5;241m=\u001b[39m\u001b[38;5;241m10\u001b[39m, scoring\u001b[38;5;241m=\u001b[39m\u001b[38;5;124m'\u001b[39m\u001b[38;5;124mneg_mean_squared_error\u001b[39m\u001b[38;5;124m'\u001b[39m, cv\u001b[38;5;241m=\u001b[39m\u001b[38;5;241m5\u001b[39m, n_jobs\u001b[38;5;241m=\u001b[39m\u001b[38;5;241m-\u001b[39m\u001b[38;5;241m1\u001b[39m, random_state\u001b[38;5;241m=\u001b[39m\u001b[38;5;241m42\u001b[39m)\n\u001b[1;32m---> 57\u001b[0m \u001b[43msearch\u001b[49m\u001b[38;5;241;43m.\u001b[39;49m\u001b[43mfit\u001b[49m\u001b[43m(\u001b[49m\u001b[43mtrain_scaled\u001b[49m\u001b[43m,\u001b[49m\u001b[43m \u001b[49m\u001b[43my_train\u001b[49m\u001b[43m)\u001b[49m\n\u001b[0;32m     59\u001b[0m \u001b[38;5;66;03m# Get best model and parameters\u001b[39;00m\n\u001b[0;32m     60\u001b[0m best_model \u001b[38;5;241m=\u001b[39m search\u001b[38;5;241m.\u001b[39mbest_estimator_\n",
            "File \u001b[1;32m~\\AppData\\Roaming\\Python\\Python311\\site-packages\\sklearn\\model_selection\\_search.py:874\u001b[0m, in \u001b[0;36mBaseSearchCV.fit\u001b[1;34m(self, X, y, groups, **fit_params)\u001b[0m\n\u001b[0;32m    868\u001b[0m     results \u001b[38;5;241m=\u001b[39m \u001b[38;5;28mself\u001b[39m\u001b[38;5;241m.\u001b[39m_format_results(\n\u001b[0;32m    869\u001b[0m         all_candidate_params, n_splits, all_out, all_more_results\n\u001b[0;32m    870\u001b[0m     )\n\u001b[0;32m    872\u001b[0m     \u001b[38;5;28;01mreturn\u001b[39;00m results\n\u001b[1;32m--> 874\u001b[0m \u001b[38;5;28;43mself\u001b[39;49m\u001b[38;5;241;43m.\u001b[39;49m\u001b[43m_run_search\u001b[49m\u001b[43m(\u001b[49m\u001b[43mevaluate_candidates\u001b[49m\u001b[43m)\u001b[49m\n\u001b[0;32m    876\u001b[0m \u001b[38;5;66;03m# multimetric is determined here because in the case of a callable\u001b[39;00m\n\u001b[0;32m    877\u001b[0m \u001b[38;5;66;03m# self.scoring the return type is only known after calling\u001b[39;00m\n\u001b[0;32m    878\u001b[0m first_test_score \u001b[38;5;241m=\u001b[39m all_out[\u001b[38;5;241m0\u001b[39m][\u001b[38;5;124m\"\u001b[39m\u001b[38;5;124mtest_scores\u001b[39m\u001b[38;5;124m\"\u001b[39m]\n",
            "File \u001b[1;32m~\\AppData\\Roaming\\Python\\Python311\\site-packages\\sklearn\\model_selection\\_search.py:1768\u001b[0m, in \u001b[0;36mRandomizedSearchCV._run_search\u001b[1;34m(self, evaluate_candidates)\u001b[0m\n\u001b[0;32m   1766\u001b[0m \u001b[38;5;28;01mdef\u001b[39;00m \u001b[38;5;21m_run_search\u001b[39m(\u001b[38;5;28mself\u001b[39m, evaluate_candidates):\n\u001b[0;32m   1767\u001b[0m \u001b[38;5;250m    \u001b[39m\u001b[38;5;124;03m\"\"\"Search n_iter candidates from param_distributions\"\"\"\u001b[39;00m\n\u001b[1;32m-> 1768\u001b[0m     \u001b[43mevaluate_candidates\u001b[49m\u001b[43m(\u001b[49m\n\u001b[0;32m   1769\u001b[0m \u001b[43m        \u001b[49m\u001b[43mParameterSampler\u001b[49m\u001b[43m(\u001b[49m\n\u001b[0;32m   1770\u001b[0m \u001b[43m            \u001b[49m\u001b[38;5;28;43mself\u001b[39;49m\u001b[38;5;241;43m.\u001b[39;49m\u001b[43mparam_distributions\u001b[49m\u001b[43m,\u001b[49m\u001b[43m \u001b[49m\u001b[38;5;28;43mself\u001b[39;49m\u001b[38;5;241;43m.\u001b[39;49m\u001b[43mn_iter\u001b[49m\u001b[43m,\u001b[49m\u001b[43m \u001b[49m\u001b[43mrandom_state\u001b[49m\u001b[38;5;241;43m=\u001b[39;49m\u001b[38;5;28;43mself\u001b[39;49m\u001b[38;5;241;43m.\u001b[39;49m\u001b[43mrandom_state\u001b[49m\n\u001b[0;32m   1771\u001b[0m \u001b[43m        \u001b[49m\u001b[43m)\u001b[49m\n\u001b[0;32m   1772\u001b[0m \u001b[43m    \u001b[49m\u001b[43m)\u001b[49m\n",
            "File \u001b[1;32m~\\AppData\\Roaming\\Python\\Python311\\site-packages\\sklearn\\model_selection\\_search.py:821\u001b[0m, in \u001b[0;36mBaseSearchCV.fit.<locals>.evaluate_candidates\u001b[1;34m(candidate_params, cv, more_results)\u001b[0m\n\u001b[0;32m    813\u001b[0m \u001b[38;5;28;01mif\u001b[39;00m \u001b[38;5;28mself\u001b[39m\u001b[38;5;241m.\u001b[39mverbose \u001b[38;5;241m>\u001b[39m \u001b[38;5;241m0\u001b[39m:\n\u001b[0;32m    814\u001b[0m     \u001b[38;5;28mprint\u001b[39m(\n\u001b[0;32m    815\u001b[0m         \u001b[38;5;124m\"\u001b[39m\u001b[38;5;124mFitting \u001b[39m\u001b[38;5;132;01m{0}\u001b[39;00m\u001b[38;5;124m folds for each of \u001b[39m\u001b[38;5;132;01m{1}\u001b[39;00m\u001b[38;5;124m candidates,\u001b[39m\u001b[38;5;124m\"\u001b[39m\n\u001b[0;32m    816\u001b[0m         \u001b[38;5;124m\"\u001b[39m\u001b[38;5;124m totalling \u001b[39m\u001b[38;5;132;01m{2}\u001b[39;00m\u001b[38;5;124m fits\u001b[39m\u001b[38;5;124m\"\u001b[39m\u001b[38;5;241m.\u001b[39mformat(\n\u001b[0;32m    817\u001b[0m             n_splits, n_candidates, n_candidates \u001b[38;5;241m*\u001b[39m n_splits\n\u001b[0;32m    818\u001b[0m         )\n\u001b[0;32m    819\u001b[0m     )\n\u001b[1;32m--> 821\u001b[0m out \u001b[38;5;241m=\u001b[39m \u001b[43mparallel\u001b[49m\u001b[43m(\u001b[49m\n\u001b[0;32m    822\u001b[0m \u001b[43m    \u001b[49m\u001b[43mdelayed\u001b[49m\u001b[43m(\u001b[49m\u001b[43m_fit_and_score\u001b[49m\u001b[43m)\u001b[49m\u001b[43m(\u001b[49m\n\u001b[0;32m    823\u001b[0m \u001b[43m        \u001b[49m\u001b[43mclone\u001b[49m\u001b[43m(\u001b[49m\u001b[43mbase_estimator\u001b[49m\u001b[43m)\u001b[49m\u001b[43m,\u001b[49m\n\u001b[0;32m    824\u001b[0m \u001b[43m        \u001b[49m\u001b[43mX\u001b[49m\u001b[43m,\u001b[49m\n\u001b[0;32m    825\u001b[0m \u001b[43m        \u001b[49m\u001b[43my\u001b[49m\u001b[43m,\u001b[49m\n\u001b[0;32m    826\u001b[0m \u001b[43m        \u001b[49m\u001b[43mtrain\u001b[49m\u001b[38;5;241;43m=\u001b[39;49m\u001b[43mtrain\u001b[49m\u001b[43m,\u001b[49m\n\u001b[0;32m    827\u001b[0m \u001b[43m        \u001b[49m\u001b[43mtest\u001b[49m\u001b[38;5;241;43m=\u001b[39;49m\u001b[43mtest\u001b[49m\u001b[43m,\u001b[49m\n\u001b[0;32m    828\u001b[0m \u001b[43m        \u001b[49m\u001b[43mparameters\u001b[49m\u001b[38;5;241;43m=\u001b[39;49m\u001b[43mparameters\u001b[49m\u001b[43m,\u001b[49m\n\u001b[0;32m    829\u001b[0m \u001b[43m        \u001b[49m\u001b[43msplit_progress\u001b[49m\u001b[38;5;241;43m=\u001b[39;49m\u001b[43m(\u001b[49m\u001b[43msplit_idx\u001b[49m\u001b[43m,\u001b[49m\u001b[43m \u001b[49m\u001b[43mn_splits\u001b[49m\u001b[43m)\u001b[49m\u001b[43m,\u001b[49m\n\u001b[0;32m    830\u001b[0m \u001b[43m        \u001b[49m\u001b[43mcandidate_progress\u001b[49m\u001b[38;5;241;43m=\u001b[39;49m\u001b[43m(\u001b[49m\u001b[43mcand_idx\u001b[49m\u001b[43m,\u001b[49m\u001b[43m \u001b[49m\u001b[43mn_candidates\u001b[49m\u001b[43m)\u001b[49m\u001b[43m,\u001b[49m\n\u001b[0;32m    831\u001b[0m \u001b[43m        \u001b[49m\u001b[38;5;241;43m*\u001b[39;49m\u001b[38;5;241;43m*\u001b[39;49m\u001b[43mfit_and_score_kwargs\u001b[49m\u001b[43m,\u001b[49m\n\u001b[0;32m    832\u001b[0m \u001b[43m    \u001b[49m\u001b[43m)\u001b[49m\n\u001b[0;32m    833\u001b[0m \u001b[43m    \u001b[49m\u001b[38;5;28;43;01mfor\u001b[39;49;00m\u001b[43m \u001b[49m\u001b[43m(\u001b[49m\u001b[43mcand_idx\u001b[49m\u001b[43m,\u001b[49m\u001b[43m \u001b[49m\u001b[43mparameters\u001b[49m\u001b[43m)\u001b[49m\u001b[43m,\u001b[49m\u001b[43m \u001b[49m\u001b[43m(\u001b[49m\u001b[43msplit_idx\u001b[49m\u001b[43m,\u001b[49m\u001b[43m \u001b[49m\u001b[43m(\u001b[49m\u001b[43mtrain\u001b[49m\u001b[43m,\u001b[49m\u001b[43m \u001b[49m\u001b[43mtest\u001b[49m\u001b[43m)\u001b[49m\u001b[43m)\u001b[49m\u001b[43m \u001b[49m\u001b[38;5;129;43;01min\u001b[39;49;00m\u001b[43m \u001b[49m\u001b[43mproduct\u001b[49m\u001b[43m(\u001b[49m\n\u001b[0;32m    834\u001b[0m \u001b[43m        \u001b[49m\u001b[38;5;28;43menumerate\u001b[39;49m\u001b[43m(\u001b[49m\u001b[43mcandidate_params\u001b[49m\u001b[43m)\u001b[49m\u001b[43m,\u001b[49m\u001b[43m \u001b[49m\u001b[38;5;28;43menumerate\u001b[39;49m\u001b[43m(\u001b[49m\u001b[43mcv\u001b[49m\u001b[38;5;241;43m.\u001b[39;49m\u001b[43msplit\u001b[49m\u001b[43m(\u001b[49m\u001b[43mX\u001b[49m\u001b[43m,\u001b[49m\u001b[43m \u001b[49m\u001b[43my\u001b[49m\u001b[43m,\u001b[49m\u001b[43m \u001b[49m\u001b[43mgroups\u001b[49m\u001b[43m)\u001b[49m\u001b[43m)\u001b[49m\n\u001b[0;32m    835\u001b[0m \u001b[43m    \u001b[49m\u001b[43m)\u001b[49m\n\u001b[0;32m    836\u001b[0m \u001b[43m\u001b[49m\u001b[43m)\u001b[49m\n\u001b[0;32m    838\u001b[0m \u001b[38;5;28;01mif\u001b[39;00m \u001b[38;5;28mlen\u001b[39m(out) \u001b[38;5;241m<\u001b[39m \u001b[38;5;241m1\u001b[39m:\n\u001b[0;32m    839\u001b[0m     \u001b[38;5;28;01mraise\u001b[39;00m \u001b[38;5;167;01mValueError\u001b[39;00m(\n\u001b[0;32m    840\u001b[0m         \u001b[38;5;124m\"\u001b[39m\u001b[38;5;124mNo fits were performed. \u001b[39m\u001b[38;5;124m\"\u001b[39m\n\u001b[0;32m    841\u001b[0m         \u001b[38;5;124m\"\u001b[39m\u001b[38;5;124mWas the CV iterator empty? \u001b[39m\u001b[38;5;124m\"\u001b[39m\n\u001b[0;32m    842\u001b[0m         \u001b[38;5;124m\"\u001b[39m\u001b[38;5;124mWere there no candidates?\u001b[39m\u001b[38;5;124m\"\u001b[39m\n\u001b[0;32m    843\u001b[0m     )\n",
            "File \u001b[1;32m~\\AppData\\Roaming\\Python\\Python311\\site-packages\\sklearn\\utils\\parallel.py:63\u001b[0m, in \u001b[0;36mParallel.__call__\u001b[1;34m(self, iterable)\u001b[0m\n\u001b[0;32m     58\u001b[0m config \u001b[38;5;241m=\u001b[39m get_config()\n\u001b[0;32m     59\u001b[0m iterable_with_config \u001b[38;5;241m=\u001b[39m (\n\u001b[0;32m     60\u001b[0m     (_with_config(delayed_func, config), args, kwargs)\n\u001b[0;32m     61\u001b[0m     \u001b[38;5;28;01mfor\u001b[39;00m delayed_func, args, kwargs \u001b[38;5;129;01min\u001b[39;00m iterable\n\u001b[0;32m     62\u001b[0m )\n\u001b[1;32m---> 63\u001b[0m \u001b[38;5;28;01mreturn\u001b[39;00m \u001b[38;5;28;43msuper\u001b[39;49m\u001b[43m(\u001b[49m\u001b[43m)\u001b[49m\u001b[38;5;241;43m.\u001b[39;49m\u001b[38;5;21;43m__call__\u001b[39;49m\u001b[43m(\u001b[49m\u001b[43miterable_with_config\u001b[49m\u001b[43m)\u001b[49m\n",
            "File \u001b[1;32m~\\AppData\\Roaming\\Python\\Python311\\site-packages\\joblib\\parallel.py:1098\u001b[0m, in \u001b[0;36mParallel.__call__\u001b[1;34m(self, iterable)\u001b[0m\n\u001b[0;32m   1095\u001b[0m     \u001b[38;5;28mself\u001b[39m\u001b[38;5;241m.\u001b[39m_iterating \u001b[38;5;241m=\u001b[39m \u001b[38;5;28;01mFalse\u001b[39;00m\n\u001b[0;32m   1097\u001b[0m \u001b[38;5;28;01mwith\u001b[39;00m \u001b[38;5;28mself\u001b[39m\u001b[38;5;241m.\u001b[39m_backend\u001b[38;5;241m.\u001b[39mretrieval_context():\n\u001b[1;32m-> 1098\u001b[0m     \u001b[38;5;28;43mself\u001b[39;49m\u001b[38;5;241;43m.\u001b[39;49m\u001b[43mretrieve\u001b[49m\u001b[43m(\u001b[49m\u001b[43m)\u001b[49m\n\u001b[0;32m   1099\u001b[0m \u001b[38;5;66;03m# Make sure that we get a last message telling us we are done\u001b[39;00m\n\u001b[0;32m   1100\u001b[0m elapsed_time \u001b[38;5;241m=\u001b[39m time\u001b[38;5;241m.\u001b[39mtime() \u001b[38;5;241m-\u001b[39m \u001b[38;5;28mself\u001b[39m\u001b[38;5;241m.\u001b[39m_start_time\n",
            "File \u001b[1;32m~\\AppData\\Roaming\\Python\\Python311\\site-packages\\joblib\\parallel.py:975\u001b[0m, in \u001b[0;36mParallel.retrieve\u001b[1;34m(self)\u001b[0m\n\u001b[0;32m    973\u001b[0m \u001b[38;5;28;01mtry\u001b[39;00m:\n\u001b[0;32m    974\u001b[0m     \u001b[38;5;28;01mif\u001b[39;00m \u001b[38;5;28mgetattr\u001b[39m(\u001b[38;5;28mself\u001b[39m\u001b[38;5;241m.\u001b[39m_backend, \u001b[38;5;124m'\u001b[39m\u001b[38;5;124msupports_timeout\u001b[39m\u001b[38;5;124m'\u001b[39m, \u001b[38;5;28;01mFalse\u001b[39;00m):\n\u001b[1;32m--> 975\u001b[0m         \u001b[38;5;28mself\u001b[39m\u001b[38;5;241m.\u001b[39m_output\u001b[38;5;241m.\u001b[39mextend(\u001b[43mjob\u001b[49m\u001b[38;5;241;43m.\u001b[39;49m\u001b[43mget\u001b[49m\u001b[43m(\u001b[49m\u001b[43mtimeout\u001b[49m\u001b[38;5;241;43m=\u001b[39;49m\u001b[38;5;28;43mself\u001b[39;49m\u001b[38;5;241;43m.\u001b[39;49m\u001b[43mtimeout\u001b[49m\u001b[43m)\u001b[49m)\n\u001b[0;32m    976\u001b[0m     \u001b[38;5;28;01melse\u001b[39;00m:\n\u001b[0;32m    977\u001b[0m         \u001b[38;5;28mself\u001b[39m\u001b[38;5;241m.\u001b[39m_output\u001b[38;5;241m.\u001b[39mextend(job\u001b[38;5;241m.\u001b[39mget())\n",
            "File \u001b[1;32m~\\AppData\\Roaming\\Python\\Python311\\site-packages\\joblib\\_parallel_backends.py:567\u001b[0m, in \u001b[0;36mLokyBackend.wrap_future_result\u001b[1;34m(future, timeout)\u001b[0m\n\u001b[0;32m    564\u001b[0m \u001b[38;5;250m\u001b[39m\u001b[38;5;124;03m\"\"\"Wrapper for Future.result to implement the same behaviour as\u001b[39;00m\n\u001b[0;32m    565\u001b[0m \u001b[38;5;124;03mAsyncResults.get from multiprocessing.\"\"\"\u001b[39;00m\n\u001b[0;32m    566\u001b[0m \u001b[38;5;28;01mtry\u001b[39;00m:\n\u001b[1;32m--> 567\u001b[0m     \u001b[38;5;28;01mreturn\u001b[39;00m \u001b[43mfuture\u001b[49m\u001b[38;5;241;43m.\u001b[39;49m\u001b[43mresult\u001b[49m\u001b[43m(\u001b[49m\u001b[43mtimeout\u001b[49m\u001b[38;5;241;43m=\u001b[39;49m\u001b[43mtimeout\u001b[49m\u001b[43m)\u001b[49m\n\u001b[0;32m    568\u001b[0m \u001b[38;5;28;01mexcept\u001b[39;00m CfTimeoutError \u001b[38;5;28;01mas\u001b[39;00m e:\n\u001b[0;32m    569\u001b[0m     \u001b[38;5;28;01mraise\u001b[39;00m \u001b[38;5;167;01mTimeoutError\u001b[39;00m \u001b[38;5;28;01mfrom\u001b[39;00m \u001b[38;5;21;01me\u001b[39;00m\n",
            "File \u001b[1;32mc:\\Program Files\\Python311\\Lib\\concurrent\\futures\\_base.py:451\u001b[0m, in \u001b[0;36mFuture.result\u001b[1;34m(self, timeout)\u001b[0m\n\u001b[0;32m    448\u001b[0m \u001b[38;5;28;01melif\u001b[39;00m \u001b[38;5;28mself\u001b[39m\u001b[38;5;241m.\u001b[39m_state \u001b[38;5;241m==\u001b[39m FINISHED:\n\u001b[0;32m    449\u001b[0m     \u001b[38;5;28;01mreturn\u001b[39;00m \u001b[38;5;28mself\u001b[39m\u001b[38;5;241m.\u001b[39m__get_result()\n\u001b[1;32m--> 451\u001b[0m \u001b[38;5;28;43mself\u001b[39;49m\u001b[38;5;241;43m.\u001b[39;49m\u001b[43m_condition\u001b[49m\u001b[38;5;241;43m.\u001b[39;49m\u001b[43mwait\u001b[49m\u001b[43m(\u001b[49m\u001b[43mtimeout\u001b[49m\u001b[43m)\u001b[49m\n\u001b[0;32m    453\u001b[0m \u001b[38;5;28;01mif\u001b[39;00m \u001b[38;5;28mself\u001b[39m\u001b[38;5;241m.\u001b[39m_state \u001b[38;5;129;01min\u001b[39;00m [CANCELLED, CANCELLED_AND_NOTIFIED]:\n\u001b[0;32m    454\u001b[0m     \u001b[38;5;28;01mraise\u001b[39;00m CancelledError()\n",
            "File \u001b[1;32mc:\\Program Files\\Python311\\Lib\\threading.py:320\u001b[0m, in \u001b[0;36mCondition.wait\u001b[1;34m(self, timeout)\u001b[0m\n\u001b[0;32m    318\u001b[0m \u001b[38;5;28;01mtry\u001b[39;00m:    \u001b[38;5;66;03m# restore state no matter what (e.g., KeyboardInterrupt)\u001b[39;00m\n\u001b[0;32m    319\u001b[0m     \u001b[38;5;28;01mif\u001b[39;00m timeout \u001b[38;5;129;01mis\u001b[39;00m \u001b[38;5;28;01mNone\u001b[39;00m:\n\u001b[1;32m--> 320\u001b[0m         \u001b[43mwaiter\u001b[49m\u001b[38;5;241;43m.\u001b[39;49m\u001b[43macquire\u001b[49m\u001b[43m(\u001b[49m\u001b[43m)\u001b[49m\n\u001b[0;32m    321\u001b[0m         gotit \u001b[38;5;241m=\u001b[39m \u001b[38;5;28;01mTrue\u001b[39;00m\n\u001b[0;32m    322\u001b[0m     \u001b[38;5;28;01melse\u001b[39;00m:\n",
            "\u001b[1;31mKeyboardInterrupt\u001b[0m: "
          ]
        }
      ],
      "source": [
        "from sklearn.model_selection import GridSearchCV, RandomizedSearchCV\n",
        "from sklearn.metrics import mean_squared_error, r2_score, mean_absolute_error\n",
        "from sklearn.linear_model import LinearRegression, Ridge, Lasso, ElasticNet\n",
        "from sklearn.tree import DecisionTreeRegressor\n",
        "from sklearn.ensemble import RandomForestRegressor, AdaBoostRegressor\n",
        "from sklearn.svm import SVR\n",
        "import xgboost as xgb\n",
        "from lightgbm import LGBMRegressor\n",
        "\n",
        "# List of regression models\n",
        "models = {\n",
        "    'Ridge': Ridge(),\n",
        "    'Lasso': Lasso(),\n",
        "    'ElasticNet': ElasticNet(),\n",
        "    'DecisionTreeRegressor': DecisionTreeRegressor(),\n",
        "    'XGBRegressor': xgb.XGBRegressor(),\n",
        "    'LGBMRegressor': LGBMRegressor(),\n",
        "    'AdaBoostRegressor': AdaBoostRegressor(),\n",
        "}\n",
        "\n",
        "# Hyperparameters for each model (you can modify based on the requirement)\n",
        "param_grid = {\n",
        "    'Ridge': {'alpha': [0.1, 1.0, 10.0]},\n",
        "    'Lasso': {'alpha': [0.1, 0.5, 1.0]},\n",
        "    'ElasticNet': {'alpha': [0.1, 0.5, 1.0], 'l1_ratio': [0.1, 0.5, 0.9]},\n",
        "    'DecisionTreeRegressor': {'max_depth': [5, 10, 20, None], 'min_samples_split': [2, 10, 20]},\n",
        "    'XGBRegressor': {\n",
        "        'learning_rate': [0.01, 0.05, 0.1],\n",
        "        'n_estimators': [100, 500, 1000],\n",
        "        'max_depth': [3, 5, 10],\n",
        "        'subsample': [0.6, 0.8, 1.0],\n",
        "        'colsample_bytree': [0.5, 0.8, 1.0],\n",
        "    },\n",
        "    'LGBMRegressor': {\n",
        "        'learning_rate': [0.01, 0.05, 0.1],\n",
        "        'n_estimators': [100, 500, 1000],\n",
        "        'max_depth': [5, 10, 20, None],\n",
        "        'num_leaves': [31, 50, 100],\n",
        "    },\n",
        "    'AdaBoostRegressor': {'n_estimators': [50, 100, 200], 'learning_rate': [0.01, 0.1, 1.0]},\n",
        "    'SVR': {'C': [0.1, 1.0, 10.0], 'kernel': ['linear', 'poly', 'rbf'], 'epsilon': [0.1, 0.2, 0.5]},\n",
        "}\n",
        "\n",
        "# Store results\n",
        "best_models = {}\n",
        "results = {}\n",
        "\n",
        "# Iterate over models\n",
        "for name, model in models.items():\n",
        "    print(f\"Training {name}...\")\n",
        "\n",
        "    # Use RandomizedSearchCV for faster search\n",
        "    search = RandomizedSearchCV(estimator=model, param_distributions=param_grid[name],\n",
        "                                n_iter=10, scoring='neg_mean_squared_error', cv=5, n_jobs=-1, random_state=42)\n",
        "\n",
        "    search.fit(train_scaled, y_train)\n",
        "\n",
        "    # Get best model and parameters\n",
        "    best_model = search.best_estimator_\n",
        "    best_params = search.best_params_\n",
        "\n",
        "    # Evaluate on test set\n",
        "    y_pred = best_model.predict(test_scaled)\n",
        "    mse = mean_squared_error(y_test, y_pred)\n",
        "    rmse = mean_squared_error(y_test, y_pred, squared=False)\n",
        "    mae = mean_absolute_error(y_test, y_pred)\n",
        "    r2 = r2_score(y_test, y_pred)\n",
        "\n",
        "    # Store best model and results\n",
        "    best_models[name] = best_model\n",
        "    results[name] = {\n",
        "        'best_params': best_params,\n",
        "        'mse': mse,\n",
        "        'rmse': rmse,\n",
        "        'mae': mae,\n",
        "        'r2': r2,\n",
        "    }\n",
        "\n",
        "    # Print the results\n",
        "    print(f\"{name} Best Params: {best_params}\")\n",
        "    print(f\"{name} MSE: {mse:.4f}, RMSE: {rmse:.4f}, MAE: {mae:.4f}, R^2: {r2:.4f}\\n\")\n",
        "\n",
        "# Compare models\n",
        "for name, result in results.items():\n",
        "    print(f\"{name} -> MSE: {result['mse']:.4f}, RMSE: {result['rmse']:.4f}, MAE: {result['mae']:.4f}, R^2: {result['r2']:.4f}\")\n",
        "\n",
        "# Get the best model based on RMSE or any metric you prefer\n",
        "best_model_name = min(results, key=lambda k: results[k]['rmse'])\n",
        "best_model = best_models[best_model_name]\n",
        "print(f\"The best model is {best_model_name} with RMSE: {results[best_model_name]['rmse']:.4f}\")\n"
      ]
    },
    {
      "cell_type": "code",
      "execution_count": null,
      "metadata": {
        "id": "2w0td7lPj9AA",
        "outputId": "53867776-f94c-4091-9b7b-48c079d95322"
      },
      "outputs": [
        {
          "name": "stdout",
          "output_type": "stream",
          "text": [
            "Ridge -> MSE: 6080103882.0117, RMSE: 77975.0209, MAE: 23298.2520, R^2: 0.0879\n",
            "Lasso -> MSE: 6080103097.3012, RMSE: 77975.0159, MAE: 23298.3092, R^2: 0.0879\n",
            "ElasticNet -> MSE: 6080527836.2950, RMSE: 77977.7394, MAE: 23253.4585, R^2: 0.0878\n",
            "DecisionTreeRegressor -> MSE: 5888174373.5181, RMSE: 76734.4406, MAE: 20734.8195, R^2: 0.1167\n",
            "XGBRegressor -> MSE: 5778038991.7892, RMSE: 76013.4132, MAE: 19859.3502, R^2: 0.1332\n",
            "LGBMRegressor -> MSE: 5789278309.4191, RMSE: 76087.3072, MAE: 19732.8721, R^2: 0.1315\n",
            "AdaBoostRegressor -> MSE: 5996742010.0916, RMSE: 77438.6338, MAE: 21804.9168, R^2: 0.1004\n",
            "The best model is XGBRegressor with RMSE: 76013.4132\n"
          ]
        }
      ],
      "source": [
        "#Compare models\n",
        "for name, result in results.items():\n",
        "    print(f\"{name} -> MSE: {result['mse']:.4f}, RMSE: {result['rmse']:.4f}, MAE: {result['mae']:.4f}, R^2: {result['r2']:.4f}\")\n",
        "\n",
        "# Get the best model based on RMSE or any metric you prefer\n",
        "best_model_name = min(results, key=lambda k: results[k]['rmse'])\n",
        "best_model = best_models[best_model_name]\n",
        "print(f\"The best model is {best_model_name} with RMSE: {results[best_model_name]['rmse']:.4f}\")\n"
      ]
    },
    {
      "cell_type": "code",
      "execution_count": null,
      "metadata": {
        "id": "gIYy87_-j9AA"
      },
      "outputs": [],
      "source": [
        "y_bpred_cat = best_model.predict(te_s)"
      ]
    },
    {
      "cell_type": "markdown",
      "metadata": {
        "id": "vliT838lj9AA"
      },
      "source": [
        "TEST DATA"
      ]
    },
    {
      "cell_type": "code",
      "execution_count": null,
      "metadata": {
        "id": "2RhWttF3j9AA",
        "outputId": "c6897e8d-e030-4159-bad3-e2781b4522f6"
      },
      "outputs": [
        {
          "name": "stdout",
          "output_type": "stream",
          "text": [
            "Submission file created: submission_predictions2.csv\n"
          ]
        }
      ],
      "source": [
        "\n",
        "# Combine predictions and ids into a DataFrame\n",
        "submission_df = pd.DataFrame({\n",
        "    'id': ids,                         # 'ids' refers to the column extracted from te_s\n",
        "    'catt_class': y_bpred_cat          # CatBoost predictions\n",
        "})\n",
        "\n",
        "# Optionally, if the predictions need to be inverse transformed (e.g., scaling)\n",
        "# submission_df['lgbt_class'] = y_scaler.inverse_transform(y_pred_lgbt)\n",
        "# submission_df['xgbt_class'] = y_scaler.inverse_transform(y_pred_xgbt)\n",
        "# submission_df['catt_class'] = y_scaler.inverse_transform(y_pred_catt)\n",
        "\n",
        "# Save the DataFrame to a CSV file\n",
        "submission_df.to_csv('submission_predictions2.csv', index=False)\n",
        "\n",
        "# Print confirmation\n",
        "print(\"Submission file created: submission_predictions2.csv\")\n"
      ]
    }
  ],
  "metadata": {
    "kernelspec": {
      "display_name": "Python 3",
      "language": "python",
      "name": "python3"
    },
    "language_info": {
      "codemirror_mode": {
        "name": "ipython",
        "version": 3
      },
      "file_extension": ".py",
      "mimetype": "text/x-python",
      "name": "python",
      "nbconvert_exporter": "python",
      "pygments_lexer": "ipython3",
      "version": "3.11.3"
    },
    "colab": {
      "provenance": []
    }
  },
  "nbformat": 4,
  "nbformat_minor": 0
}